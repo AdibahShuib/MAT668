{
  "nbformat": 4,
  "nbformat_minor": 0,
  "metadata": {
    "colab": {
      "provenance": [],
      "authorship_tag": "ABX9TyONPq/mQWxdH8lVm3pxqkIR",
      "include_colab_link": true
    },
    "kernelspec": {
      "name": "python3",
      "display_name": "Python 3"
    },
    "language_info": {
      "name": "python"
    }
  },
  "cells": [
    {
      "cell_type": "markdown",
      "metadata": {
        "id": "view-in-github",
        "colab_type": "text"
      },
      "source": [
        "<a href=\"https://colab.research.google.com/github/AdibahShuib/MAT668/blob/main/MAT668%20CS2496A%20PYTHON%20LAB%20ASSN.%20MARCH-AUG2024.ipynb\" target=\"_parent\"><img src=\"https://colab.research.google.com/assets/colab-badge.svg\" alt=\"Open In Colab\"/></a>"
      ]
    },
    {
      "cell_type": "code",
      "execution_count": null,
      "metadata": {
        "id": "qn0uD4OYXdFV"
      },
      "outputs": [],
      "source": [
        "#MAT668 (GRAPH THEORY WITH APPLICATIONS)\n",
        "#PYTHON LAB. ASSIGNMENT - CS2496A\n",
        "#SEMESTER: MARCH - AUGUST 2024\n",
        "#COLLEGE OF COMPUTING, INFORMATICS AND MATHEMATICS (KPPIM)\n",
        "#UNIVERSITI TEKNOLOGI MARA (UiTM), SHAH ALAM, SELANGOR, MALAYSIA\n",
        "#LECTURER:  ASSOC. PROF. TS. DR. ADIBAH SHUIB"
      ]
    },
    {
      "cell_type": "markdown",
      "source": [
        "###QUESTION 1  (4 marks)\n",
        "Assign your full name (Firstname Lastname) to a variable called \"Name\".   \n",
        "Assign your student ID to a variable called \"SID\".   \n",
        "Assign your group (CS2496A or CS2496B) to a variable called \"Group\".  \n",
        "Assign today's date to a variable called \"Date\".\\\n",
        "Print each of these information in separate rows.\\\n",
        "•\t[HINT1: >> x = \"John\"; y = 5; z = \"A\"]\n",
        "•\t[HINT2: https://www.programiz.com/python-programming/datetime/current-datetime >> from datetime import date >> Date = date.today() \\\n",
        "•\t[HINT3: print(\"Date:\", Date)]\n",
        "* Expected Output:\\\n",
        "        Name: Firstname Lastname\n",
        "        SID: 2021XXXXXX\n",
        "        Class Group: CS2496X\n",
        "        Date: 202X-XX-XX"
      ],
      "metadata": {
        "id": "uVB23ddWQ6Zp"
      }
    },
    {
      "cell_type": "code",
      "source": [],
      "metadata": {
        "id": "LHUbAEZYQvKJ"
      },
      "execution_count": null,
      "outputs": []
    },
    {
      "cell_type": "markdown",
      "source": [
        "###QUESTION 2 (4 marks)\n",
        "Create a car brands list called \"CarBrands\" consisting of eight (8) names or brands of cars. Print this list.\\\n",
        "Print the second last car brand in \"CarBrands\" list.\\\n",
        "Print the third, fourth, fifth and sixth car brands in CarBrands list by specifying a range."
      ],
      "metadata": {
        "id": "8VuEa5XHRKjH"
      }
    },
    {
      "cell_type": "code",
      "source": [],
      "metadata": {
        "id": "RXuA3coBRQon"
      },
      "execution_count": null,
      "outputs": []
    },
    {
      "cell_type": "markdown",
      "source": [
        "###QUESTION 3 (4 marks)\n",
        "Create four tuples as follows:\\\n",
        "tuple1 which contains the letters, \"C\" and \"S\".\\\n",
        "tuple2 which contains the numbers 2, 4, and 9.\\\n",
        "tuple3 which contains the string \"CS249_\".\\\n",
        "tuple4 which contains the string \"MAT668\".\\\n",
        "Create tuple5 by joining the tuple 1 and tuple 2.\\\n",
        "Create tuple6 by joining the tuple 3 and tuple 4.\\\n",
        "Print tuple1, tuple2, tuple3, tuple4, tuple 5, and tuple 6 in different lines. [HINT1: Refer to 3. Python Tutorial (Join Tuple under Tuple section) at https://www.w3schools.com/python/]."
      ],
      "metadata": {
        "id": "_CjBzNYSTNqw"
      }
    },
    {
      "cell_type": "code",
      "source": [],
      "metadata": {
        "id": "iWAsB6ikUAVk"
      },
      "execution_count": null,
      "outputs": []
    },
    {
      "cell_type": "markdown",
      "source": [
        "###QUESTION 4 (4 marks)\n",
        "Use the following program to print the list of numbers from 6 to 15, sum the numbers from 6 to 15 and determine whether the number is even or odd.\n",
        "[HINT:\n",
        "1.\tYou just need to copy the following program and replace a and b with appropriate values and take out \" \\ \" (if any) in the coding below.\n",
        "2.\tDo not forget indent when dealing with loop.\n",
        "3.\tRefer to the example in 5. The Python Tutorial (More Control Flow Tools): https://docs.python.org/3/tutorial/controlflow.html#for-statements].\n",
        "\n",
        "range(a, b)\n",
        "print(list(range(a, b)))\n",
        "print(\"the sum of numbers:\", sum(list(range(a, b))))\n",
        "for num in range(a, b):\n",
        "if num % 2 == 0: #Indent once.\n",
        "print(\"Found an even number\", num) #Indent twice.\n",
        "continue #Indent twicw.\n",
        "print(\"Found an odd number\", num) #Indent once."
      ],
      "metadata": {
        "id": "9CAODS0mUBow"
      }
    },
    {
      "cell_type": "code",
      "source": [],
      "metadata": {
        "id": "jQ13BkGvUm_r"
      },
      "execution_count": null,
      "outputs": []
    },
    {
      "cell_type": "markdown",
      "source": [
        "###QUESTION 5 (4 marks)\n",
        "Type the following coding by replacing the blank space (______) with your own word such as 'house', 'shirt', 'dress', 'cat', 'car', scarf', 'phone','writing', 'painting', etc. Do not forget to indent when dealing with \"for\" and \"if\" lopps.. \\n\n",
        "\n",
        "MyWords = ['My',  '_________',  'is',  'great']\\\n",
        "for w in MyWords:\\\n",
        "    print(w, len(w))\\\n",
        "    if len(w)==5: \\\n",
        "        print(\"Length of word is\", len(w)) \\\n",
        "    else: \\\n",
        "        print(\"Length of word is not 5\")"
      ],
      "metadata": {
        "id": "JH4Npg2LUoNO"
      }
    },
    {
      "cell_type": "code",
      "source": [],
      "metadata": {
        "id": "924X3SrhU9IV"
      },
      "execution_count": null,
      "outputs": []
    }
  ]
}