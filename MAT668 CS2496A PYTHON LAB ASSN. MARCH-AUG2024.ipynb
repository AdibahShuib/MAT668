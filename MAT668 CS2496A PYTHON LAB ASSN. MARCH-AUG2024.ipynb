{
  "nbformat": 4,
  "nbformat_minor": 0,
  "metadata": {
    "colab": {
      "provenance": [],
      "authorship_tag": "ABX9TyMWZpsbGDbEqktw1qcclZae",
      "include_colab_link": true
    },
    "kernelspec": {
      "name": "python3",
      "display_name": "Python 3"
    },
    "language_info": {
      "name": "python"
    }
  },
  "cells": [
    {
      "cell_type": "markdown",
      "metadata": {
        "id": "view-in-github",
        "colab_type": "text"
      },
      "source": [
        "<a href=\"https://colab.research.google.com/github/AdibahShuib/MAT668/blob/main/MAT668%20CS2496A%20PYTHON%20LAB%20ASSN.%20MARCH-AUG2024.ipynb\" target=\"_parent\"><img src=\"https://colab.research.google.com/assets/colab-badge.svg\" alt=\"Open In Colab\"/></a>"
      ]
    },
    {
      "cell_type": "code",
      "execution_count": null,
      "metadata": {
        "id": "qn0uD4OYXdFV"
      },
      "outputs": [],
      "source": [
        "#MAT668 (GRAPH THEORY WITH APPLICATIONS)\n",
        "#PYTHON LAB. ASSIGNMENT - CS2496A\n",
        "#SEMESTER: MARCH - AUGUST 2024\n",
        "#COLLEGE OF COMPUTING, INFORMATICS AND MATHEMATICS (KPPIM)\n",
        "#UNIVERSITI TEKNOLOGI MARA (UiTM), SHAH ALAM, SELANGOR, MALAYSIA\n",
        "#LECTURER:  ASSOC. PROF. TS. DR. ADIBAH SHUIB"
      ]
    },
    {
      "cell_type": "markdown",
      "source": [
        "#  MAT668 PYTHON LAB ASSIGNMENT PART 2 (24 APRIL 2024)\n",
        "Please proceed to QUESTION 6 (Q6) to answer MAT668 Python Lab Assignment Part 2 (24 Aoril 2024)"
      ],
      "metadata": {
        "id": "f4fLryh4j2gf"
      }
    },
    {
      "cell_type": "markdown",
      "source": [
        "###QUESTION 1  (4 marks)\n",
        "Assign your full name (Firstname Lastname) to a variable called \"Name\".   \n",
        "Assign your student ID to a variable called \"SID\".   \n",
        "Assign your group (CS2496A or CS2496B) to a variable called \"Group\".  \n",
        "Assign today's date to a variable called \"Date\".\\\n",
        "Print each of these information in separate rows.\\\n",
        "•\t[HINT1: >> x = \"John\"; y = 5; z = \"A\"]\n",
        "•\t[HINT2: https://www.programiz.com/python-programming/datetime/current-datetime >> from datetime import date >> Date = date.today() \\\n",
        "•\t[HINT3: print(\"Date:\", Date)]\n",
        "* Expected Output:\\\n",
        "        Name: Firstname Lastname\n",
        "        SID: 2021XXXXXX\n",
        "        Class Group: CS2496X\n",
        "        Date: 202X-XX-XX"
      ],
      "metadata": {
        "id": "uVB23ddWQ6Zp"
      }
    },
    {
      "cell_type": "code",
      "source": [],
      "metadata": {
        "id": "LHUbAEZYQvKJ"
      },
      "execution_count": null,
      "outputs": []
    },
    {
      "cell_type": "markdown",
      "source": [
        "###QUESTION 2 (4 marks)\n",
        "Create a car brands list called \"CarBrands\" consisting of eight (8) names or brands of cars. Print this list.\\\n",
        "Print the second last car brand in \"CarBrands\" list.\\\n",
        "Print the third, fourth, fifth and sixth car brands in CarBrands list by specifying a range."
      ],
      "metadata": {
        "id": "8VuEa5XHRKjH"
      }
    },
    {
      "cell_type": "code",
      "source": [],
      "metadata": {
        "id": "RXuA3coBRQon"
      },
      "execution_count": null,
      "outputs": []
    },
    {
      "cell_type": "markdown",
      "source": [
        "###QUESTION 3 (4 marks)\n",
        "Create four tuples as follows:\\\n",
        "tuple1 which contains the letters, \"C\" and \"S\".\\\n",
        "tuple2 which contains the numbers 2, 4, and 9.\\\n",
        "tuple3 which contains the string \"CS249_\".\\\n",
        "tuple4 which contains the string \"MAT668\".\\\n",
        "Create tuple5 by joining the tuple 1 and tuple 2.\\\n",
        "Create tuple6 by joining the tuple 3 and tuple 4.\\\n",
        "Print tuple1, tuple2, tuple3, tuple4, tuple 5, and tuple 6 in different lines. [HINT1: Refer to 3. Python Tutorial (Join Tuple under Tuple section) at https://www.w3schools.com/python/]."
      ],
      "metadata": {
        "id": "_CjBzNYSTNqw"
      }
    },
    {
      "cell_type": "code",
      "source": [],
      "metadata": {
        "id": "iWAsB6ikUAVk"
      },
      "execution_count": null,
      "outputs": []
    },
    {
      "cell_type": "markdown",
      "source": [
        "###QUESTION 4 (4 marks)\n",
        "Use the following program to print the list of numbers from 6 to 16, sum the numbers from 6 to 16 and determine whether the number is even or odd.\n",
        "[HINT:\n",
        "1.\tYou just need to copy the following program and replace a and b with appropriate values and take out \" \\ \" (if any) in the coding below.\n",
        "2.\tDo not forget indent when dealing with loop.\n",
        "3.\tRefer to the example in 5. The Python Tutorial (More Control Flow Tools): https://docs.python.org/3/tutorial/controlflow.html#for-statements].\n",
        "\n",
        "range(a, b)\n",
        "print(list(range(a, b)))\n",
        "print(\"the sum of numbers:\", sum(list(range(a, b))))\n",
        "for num in range(a, b):\n",
        "if num % 2 == 0: #Indent once.\n",
        "print(\"Found an even number\", num) #Indent twice.\n",
        "continue #Indent twicw.\n",
        "print(\"Found an odd number\", num) #Indent once."
      ],
      "metadata": {
        "id": "9CAODS0mUBow"
      }
    },
    {
      "cell_type": "code",
      "source": [],
      "metadata": {
        "id": "jQ13BkGvUm_r"
      },
      "execution_count": null,
      "outputs": []
    },
    {
      "cell_type": "markdown",
      "source": [
        "###QUESTION 5 (4 marks)\n",
        "Type the following coding by replacing the blank space (______) with your own word such as 'house', 'shirt', 'dress', 'cat', 'car', scarf', 'phone','writing', 'painting', etc. Do not forget to indent when dealing with \"for\" and \"if\" lopps. \\n\n",
        "\n",
        "MyWords = ['My',  '_________',  'is',  'great']\\\n",
        "for w in MyWords:\\\n",
        "    print(w, len(w))\\\n",
        "    if len(w)==5: \\\n",
        "        print(\"Length of word is\", len(w)) \\\n",
        "    else: \\\n",
        "        print(\"Length of word is not 5\")"
      ],
      "metadata": {
        "id": "JH4Npg2LUoNO"
      }
    },
    {
      "cell_type": "code",
      "source": [],
      "metadata": {
        "id": "924X3SrhU9IV"
      },
      "execution_count": null,
      "outputs": []
    },
    {
      "cell_type": "markdown",
      "source": [
        "###QUESTION 6 (4 marks)\n",
        "Define a list called \"Nodes\" of 10 nodes (0, 1, ..., 9) using \"range\" function. [Reference: https://www.programiz.com/python-programming/methods/built-in/range ]\n",
        "\n",
        "Convert the range into a list using \"list\" function. Print the list of nodes using \"print\" function. Example: print(\"Nodes:\",list(Nodes))"
      ],
      "metadata": {
        "id": "Eyqz8k8qnH_c"
      }
    },
    {
      "cell_type": "code",
      "source": [],
      "metadata": {
        "id": "Zk2XyF6JvHaR"
      },
      "execution_count": 30,
      "outputs": []
    },
    {
      "cell_type": "markdown",
      "source": [
        "###QUESTION 7 (4 marks)\n",
        "Define a list called \"SID\" using your student ID (SID) defined earlier and print this SID. [Reference for lists: https://www.w3schools.com/python/python_lists.asp].\n",
        "\n",
        "Define a new list called NEW_SID by changing the last digit in your current SID to be the digit ‘5’. If the last digit of your SID is already \"5\", then define NEW_SID using the same SID number. Print NEW_SID.\n",
        "\n",
        "Example of Output: \\\n",
        "   SID: 2022123456 \\\n",
        "   NEW_SID: 2022123455"
      ],
      "metadata": {
        "id": "_8ZnBun5vVtY"
      }
    },
    {
      "cell_type": "code",
      "source": [],
      "metadata": {
        "id": "DF-buTCevxr4"
      },
      "execution_count": 30,
      "outputs": []
    },
    {
      "cell_type": "markdown",
      "source": [
        "###QUESTION 8 (4 marks)\n",
        "Use \"zip\" function to create a sequence of tuple involving \"Nodes\" list and \"NEW_SID\" list and called it \"G_Edges\". \". [HINT: G_Edges = zip(LIST_A, LIST_B)]. Print the list of G_Edges using the \"print\" function, e.g., print(list(LIST_C))\n",
        "\n",
        "Each tuple defines an edge between two nodes from the list nodes and the modified list NEW_SID as (Nodes[i], NEW_SID[i]]). The \"list\" function converts the \"G_edges\" sequence into a list. [Reference: https://www.programiz.com/python-programming/methods/built-in/zip ]\n",
        "\n",
        "Example (Expected Output): \\\n",
        "If nodes = [0, 1, 2, 3, 4, 5, 6, 7, 8, 9] and NEW_SID = [2, 0, 2, 2, 1, 2, 3, 4, 5, 5], \\\n",
        "then, G_Edges = [(0, 2), (1, 0), (2, 2), (3, 2), (4, 1), (5, 2), (6, 3), (7, 4), (8, 5), (9, 5)]."
      ],
      "metadata": {
        "id": "uzipnxd-w5Vj"
      }
    },
    {
      "cell_type": "code",
      "source": [],
      "metadata": {
        "id": "BpFC-fC_xAJJ"
      },
      "execution_count": 30,
      "outputs": []
    },
    {
      "cell_type": "markdown",
      "source": [
        "###QUESTION 9 (3 marks)\n",
        "Import networkx module as nx. [Reference: https://networkx.org/documentation/stable/tutorial.html to import]\n",
        "After you import network module, create an empty graph G with no nodes and no edges. i.e., let G = nx.Graph(). Then, print G."
      ],
      "metadata": {
        "id": "2Q9ak_zIxK0J"
      }
    },
    {
      "cell_type": "code",
      "source": [],
      "metadata": {
        "id": "DHRdUZucxLor"
      },
      "execution_count": 30,
      "outputs": []
    },
    {
      "cell_type": "markdown",
      "source": [
        "###QUESTION 10 (4 marks)\n",
        "Add \"G_Edges\" to G using the function:\n",
        "\"G.add_edges_from (copy the list of edges of G_Edges in Q8)\".\n",
        "\n",
        "[Reference: https://networkx.org/documentation/stable/tutorial.html ].\n",
        "\n",
        "Then, enter the command to get number of edges >> print(G.number_of_edges())"
      ],
      "metadata": {
        "id": "6OEk6MshxeZ5"
      }
    },
    {
      "cell_type": "code",
      "source": [],
      "metadata": {
        "id": "Fq0Ijw1axg9k"
      },
      "execution_count": 30,
      "outputs": []
    },
    {
      "cell_type": "markdown",
      "source": [
        "Q11 (4 marks)\n",
        "###QUESTION 11 (4 marks)\n",
        "###QUESTION 11 (4 marks)\n",
        "Print all edge of G using \"print\" function. [Hint: print(G.?????)].\n",
        "\n",
        "[Reference: https://networkx.guide/basics/ . Note that based on this reference, there are four basic graph properties facilitate reporting: G.nodes, G.edges, G.adj and G.degree. You can print these lists. For example, print(G.nodes)]."
      ],
      "metadata": {
        "id": "TqhFYAPXxt0h"
      }
    },
    {
      "cell_type": "code",
      "source": [],
      "metadata": {
        "id": "NWlBqw-Lxvgd"
      },
      "execution_count": 30,
      "outputs": []
    },
    {
      "cell_type": "markdown",
      "source": [
        "###QUESTION 12 (4 marks)\n",
        "Add nodes to G to G using the function:\n",
        "G.add_nodes_from(list of Nodes in Q8).\n",
        "\n",
        "Print all nodes of G.\n",
        "\n",
        "[Reference: https://networkx.guide/basics/ . Note that based on this reference, there are four basic graph properties facilitate reporting: G.nodes, G.edges, G.adj and G.degree. You can print these lists. For example, print(G.nodes)]."
      ],
      "metadata": {
        "id": "K5Sz6HFB07wZ"
      }
    },
    {
      "cell_type": "code",
      "source": [],
      "metadata": {
        "id": "MKa9F1CI1EqG"
      },
      "execution_count": 30,
      "outputs": []
    },
    {
      "cell_type": "markdown",
      "source": [
        "###QUESTION 13 (4 marks)\n",
        "Print the number of nodes using \"number_of_nodes\" functon and \"print\" function. [HINT: G.number_of_nodes()].\n",
        "\n",
        "[Reference: https://networkx.org/documentation/stable/tutorial.html ."
      ],
      "metadata": {
        "id": "c1BdNJdg1TVI"
      }
    },
    {
      "cell_type": "code",
      "source": [],
      "metadata": {
        "id": "XO6GQVg-1Yq2"
      },
      "execution_count": 30,
      "outputs": []
    },
    {
      "cell_type": "markdown",
      "source": [
        "###QUESTION 14 (4 marks)\n",
        "Determine the degree of each of the nodes 1, 5, and 7. Print the output using the function G.degree.\n",
        "\n",
        "Note: To check degrees of a set of nodes, that is, with how many edges those nodes are incident with, use G.degree() function. For example, to check the degree of node 0 and node 8, use the command >> G.degree([0, 8]). \\\n",
        "[Reference for degree of nodes: https://networkx.org/documentation/stable/tutorial.html ]\n"
      ],
      "metadata": {
        "id": "3ax1oDpb2VBp"
      }
    },
    {
      "cell_type": "code",
      "source": [],
      "metadata": {
        "id": "BQpVnSVI2GeV"
      },
      "execution_count": 30,
      "outputs": []
    },
    {
      "cell_type": "markdown",
      "source": [
        "###QUESTION 15 (4 marks)\n",
        "Print the list of nodes adjacent to node 2 (neighbours of node 2) using \"neighbors\" function.\n",
        "\n",
        "For example, the command >> list(G.neighbors(9)) will produce all neighboring nodes to node 9 which you can print.\n",
        "\n",
        "[Reference for neighbour of nodes:https://networkx.org/documentation/stable/tutorial.html ]. NOTE: When searcing, use the spelling \"neighbor\".\n"
      ],
      "metadata": {
        "id": "EDLmxt3m2-VS"
      }
    },
    {
      "cell_type": "code",
      "source": [],
      "metadata": {
        "id": "XMePK_2k3CWu"
      },
      "execution_count": 30,
      "outputs": []
    },
    {
      "cell_type": "markdown",
      "source": [
        "###QUESTION 16 (4 marks)\n",
        "Print all the nodes and a list of their respective neighbours side by side using \"for loop\", \"nodes\" function, \"neighbors\" function and \"print\" function. Note that you need to print i along with the list(G.neighbors(i)) for all i in the range.\n",
        "Example:\\\n",
        "0 [1, 2, 7] \\\n",
        "1 [0, 9, 2] \\\n",
        "2 [0, 1, 4] \\\n",
        "3 [8, 5] \\\n",
        "4 [2, 6] \\\n",
        "5 [3] \\\n",
        "6 [4] \\\n",
        "7 [0] \\\n",
        "8 [3] \\\n",
        "9 [1] \\\n",
        "[References: https://docs.python.org/3/tutorial/controlflow.html #for-statements;\n",
        "https://networkx.github.io/documentation/stable/tutorial.html#edges]"
      ],
      "metadata": {
        "id": "CylLMkFx4UZJ"
      }
    },
    {
      "cell_type": "code",
      "source": [],
      "metadata": {
        "id": "KJMQ93dV4VlJ"
      },
      "execution_count": 30,
      "outputs": []
    },
    {
      "cell_type": "markdown",
      "source": [
        "###QUESTION 17 (4 marks)\n",
        "Based on the output of Q16, define a list called \"Odd_Degree_Nodes\" to list all nodes with odd degree. For example, Odd_Degree_Nodes = [5, 6, 7, 9].\n",
        "Print this list of \"Odd_Degree_Nodes.\n",
        "\n",
        "[Reference: https://www.w3schools.com/python/python_lists.asp to recall how to define list]"
      ],
      "metadata": {
        "id": "3Zzb8SZO4z3Y"
      }
    },
    {
      "cell_type": "code",
      "source": [],
      "metadata": {
        "id": "XbnAt0LR43CF"
      },
      "execution_count": 30,
      "outputs": []
    },
    {
      "cell_type": "markdown",
      "source": [
        "###QUESTION 18 (4 marks)\n",
        "Print all the nodes and their respective degree side by side using \"for loop\", \"nodes\" function, \"degree\" function and \"print\" function.\n",
        "\n",
        "Example: \\\n",
        "0 3 \\\n",
        "1 3 \\\n",
        "2 3 \\\n",
        "3 2 \\\n",
        "4 2 \\\n",
        "5 1 \\\n",
        "6 1 \\\n",
        "7 1 \\\n",
        "8 1 \\\n",
        "9 1 \\\n",
        "\n",
        "[References: https://docs.python.org/3/tutorial/controlflow.html#for-statements HINT: use the command \"for i in range(len(G)):\" and you need to print the node i along with the degree of node i, which is G.degree(i)\n"
      ],
      "metadata": {
        "id": "2o_uEa-C7Nx7"
      }
    },
    {
      "cell_type": "code",
      "source": [],
      "metadata": {
        "id": "Dkwe-8zN7WeR"
      },
      "execution_count": 30,
      "outputs": []
    },
    {
      "cell_type": "markdown",
      "source": [
        "###QUESTION 19 (4 marks)"
      ],
      "metadata": {
        "id": "3V2Wiqsq8mA5"
      }
    },
    {
      "cell_type": "code",
      "source": [],
      "metadata": {
        "id": "d6_wK_Nh8cV2"
      },
      "execution_count": null,
      "outputs": []
    },
    {
      "cell_type": "markdown",
      "source": [
        "###QUESTION 20 (4 marks)"
      ],
      "metadata": {
        "id": "QDLXl-1S8d0j"
      }
    },
    {
      "cell_type": "code",
      "source": [],
      "metadata": {
        "id": "JiG-rgHB8jUc"
      },
      "execution_count": null,
      "outputs": []
    },
    {
      "cell_type": "markdown",
      "source": [
        "###QUESTION 21 (4 marks)"
      ],
      "metadata": {
        "id": "Y1KmghAI8oYp"
      }
    },
    {
      "cell_type": "code",
      "source": [],
      "metadata": {
        "id": "_zWY5cf_8q7F"
      },
      "execution_count": null,
      "outputs": []
    },
    {
      "cell_type": "markdown",
      "source": [
        "###QUESTION 22 (4 marks)"
      ],
      "metadata": {
        "id": "ju-qzmKY8rqK"
      }
    },
    {
      "cell_type": "code",
      "source": [],
      "metadata": {
        "id": "-pqMwhUH8t88"
      },
      "execution_count": null,
      "outputs": []
    },
    {
      "cell_type": "markdown",
      "source": [
        "###QUESTION 23 (4 marks)"
      ],
      "metadata": {
        "id": "m8A2Kp_Y8wCC"
      }
    },
    {
      "cell_type": "code",
      "source": [],
      "metadata": {
        "id": "J_yJEtJT8zLK"
      },
      "execution_count": null,
      "outputs": []
    },
    {
      "cell_type": "markdown",
      "source": [
        "###QUESTION 24 (4 marks)"
      ],
      "metadata": {
        "id": "eqQMyBWo8zua"
      }
    },
    {
      "cell_type": "code",
      "source": [],
      "metadata": {
        "id": "E37XvgiY82bo"
      },
      "execution_count": null,
      "outputs": []
    },
    {
      "cell_type": "markdown",
      "source": [
        "###QUESTION 25 (5 marks)"
      ],
      "metadata": {
        "id": "9eUNC3eR829Z"
      }
    },
    {
      "cell_type": "code",
      "source": [],
      "metadata": {
        "id": "_5QxomGA848o"
      },
      "execution_count": null,
      "outputs": []
    }
  ]
}