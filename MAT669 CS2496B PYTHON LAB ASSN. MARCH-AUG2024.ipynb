{
  "nbformat": 4,
  "nbformat_minor": 0,
  "metadata": {
    "colab": {
      "provenance": [],
      "authorship_tag": "ABX9TyNBeTYQE6FZ6xdKxHx5P88Z",
      "include_colab_link": true
    },
    "kernelspec": {
      "name": "python3",
      "display_name": "Python 3"
    },
    "language_info": {
      "name": "python"
    }
  },
  "cells": [
    {
      "cell_type": "markdown",
      "metadata": {
        "id": "view-in-github",
        "colab_type": "text"
      },
      "source": [
        "<a href=\"https://colab.research.google.com/github/AdibahShuib/MAT668/blob/main/MAT669%20CS2496B%20PYTHON%20LAB%20ASSN.%20MARCH-AUG2024.ipynb\" target=\"_parent\"><img src=\"https://colab.research.google.com/assets/colab-badge.svg\" alt=\"Open In Colab\"/></a>"
      ]
    },
    {
      "cell_type": "code",
      "execution_count": 1,
      "metadata": {
        "id": "qn0uD4OYXdFV"
      },
      "outputs": [],
      "source": [
        "#MAT668 (GRAPH THEORY WITH APPLICATIONS)\n",
        "#PYTHON LAB. ASSIGNMENT\n",
        "#SEMESTER: MARCH - AUGUST 2024\n",
        "#COLLEGE OF COMPUTING, INFORMATICS AND MATHEMATICS (KPPIM)\n",
        "#UNIVERSITI TEKNOLOGI MARA (UiTM), SHAH ALAM, SELANGOR, MALAYSIA\n",
        "#LECTURER:  ASSOC. PROF. TS. DR. ADIBAH SHUIB"
      ]
    },
    {
      "cell_type": "code",
      "source": [],
      "metadata": {
        "id": "W6pT6NKnX44R"
      },
      "execution_count": null,
      "outputs": []
    }
  ]
}