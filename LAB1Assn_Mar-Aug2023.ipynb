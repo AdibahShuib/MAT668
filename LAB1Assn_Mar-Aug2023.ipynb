{
  "nbformat": 4,
  "nbformat_minor": 0,
  "metadata": {
    "colab": {
      "provenance": [],
      "authorship_tag": "ABX9TyM8TtJbv43rVfSa4dLoI3Iv",
      "include_colab_link": true
    },
    "kernelspec": {
      "name": "python3",
      "display_name": "Python 3"
    },
    "language_info": {
      "name": "python"
    }
  },
  "cells": [
    {
      "cell_type": "markdown",
      "metadata": {
        "id": "view-in-github",
        "colab_type": "text"
      },
      "source": [
        "<a href=\"https://colab.research.google.com/github/AdibahShuib/MAT668/blob/main/LAB1Assn_Mar-Aug2023.ipynb\" target=\"_parent\"><img src=\"https://colab.research.google.com/assets/colab-badge.svg\" alt=\"Open In Colab\"/></a>"
      ]
    },
    {
      "cell_type": "code",
      "execution_count": null,
      "metadata": {
        "id": "3kQOFytvaxcG",
        "colab": {
          "base_uri": "https://localhost:8080/"
        },
        "outputId": "5d11f64e-197d-4ccf-dc6f-9e2bd556199b"
      },
      "outputs": [
        {
          "output_type": "stream",
          "name": "stdout",
          "text": [
            "Populating the interactive namespace from numpy and matplotlib\n"
          ]
        }
      ],
      "source": [
        "%pylab inline"
      ]
    },
    {
      "cell_type": "markdown",
      "source": [
        "Q1  \n",
        "Assign your full name to a variable called \"Name:\".  \n",
        "Assign your student ID to a variable called \"SID:\".  \n",
        "Assign today's date  to a variable called \"Date:\".  \n",
        "Print your name using \"print\" function; then print your student ID using \"print\" function, and lastly print your today's date using \"print\" function."
      ],
      "metadata": {
        "id": "ly9Bddc8iUQD"
      }
    },
    {
      "cell_type": "code",
      "source": [],
      "metadata": {
        "id": "r4_R5QJUkLkE"
      },
      "execution_count": null,
      "outputs": []
    },
    {
      "cell_type": "markdown",
      "source": [
        "Q2  \n",
        "Define a list called \"nodes\" of 10 nodes (0, 1, ..., 9) using \"range\" function.   \n",
        "[Reference: https://www.programiz.com/python-programming/methods/built-in/range].  \n",
        "Convert the range into a list using \"list\" function.\n",
        "Print the list of nodes using \"print\" function."
      ],
      "metadata": {
        "id": "8ZUtGbmBjT8r"
      }
    },
    {
      "cell_type": "code",
      "source": [],
      "metadata": {
        "id": "mVuQGzuOmySM"
      },
      "execution_count": null,
      "outputs": []
    },
    {
      "cell_type": "markdown",
      "source": [
        "Q3  \n",
        "Define a list called \"stud_id\" using your student ID   \n",
        "For example, if your student ID is \"2015234031\",\n",
        "your list is [2, 0, 1, 5, 2, 3, 4, 0, 3, 1].  \n",
        "Print it using \"print\" function."
      ],
      "metadata": {
        "id": "goYTZdvNmzET"
      }
    },
    {
      "cell_type": "code",
      "source": [],
      "metadata": {
        "id": "R2OvApZJoCS1"
      },
      "execution_count": null,
      "outputs": []
    },
    {
      "cell_type": "markdown",
      "source": [
        "Q4  \n",
        "Use \"zip\" function to create a sequence of tuple and called it \"G_Edges\". Each tuple defines an edge between two nodes from the list nodes and the list studid (nodes[i], stud_id[i]).  \n",
        "Then, use \"list\" function to convert \"edges\" sequence into a list. Print the list of edges using \"print\" function.  \n",
        "[Reference: https://www.programiz.com/python-programming/methods/built-in/zip]\n",
        "Example: If nodes = [0, 1, 2, 3, 4, 5, 6, 7, 8, 9] and stud_id = [2, 0, 1, 5, 2, 3, 4, 0, 3, 1], then, G_Edges = [(0, 2), (1, 0), (2, 1), (3, 5), (4, 2), (5, 3), (6, 4), (7, 0), (8, 3), (9, 1)] "
      ],
      "metadata": {
        "id": "uhQmyV6Qoa4O"
      }
    },
    {
      "cell_type": "code",
      "source": [],
      "metadata": {
        "id": "Gdre1jG2qUTF"
      },
      "execution_count": null,
      "outputs": []
    },
    {
      "cell_type": "markdown",
      "source": [
        "Q5  \n",
        "Import networkx module as nx.  \n",
        "Then, create an empty graph G with no nodes and no edges. \n",
        "Print G."
      ],
      "metadata": {
        "id": "cA7KVTrbqVGM"
      }
    },
    {
      "cell_type": "code",
      "source": [],
      "metadata": {
        "id": "GY5cktxzqijk"
      },
      "execution_count": null,
      "outputs": []
    },
    {
      "cell_type": "markdown",
      "source": [
        "Q6  \n",
        "Add \"G_Edges\" to G using \"add_edges_from\" function.  \n",
        "[Reference:: https://networkx.org/documentation/stable/tutorial.html ] "
      ],
      "metadata": {
        "id": "RIevxxIcqjaU"
      }
    },
    {
      "cell_type": "code",
      "source": [],
      "metadata": {
        "id": "ysz1VCfNtE-2"
      },
      "execution_count": null,
      "outputs": []
    },
    {
      "cell_type": "markdown",
      "source": [
        "Q7  \n",
        "Print all nodes using the \"print\" function.  \n",
        "[Reference: https://networkx.org/documentation/stable/tutorial.html Note that based on this reference, there are four basic graph properties facilitate reporting: G.nodes, G.edges, G.adj and G.degree. You can print these lists]."
      ],
      "metadata": {
        "id": "u6tqiWwjtFM-"
      }
    },
    {
      "cell_type": "code",
      "source": [],
      "metadata": {
        "id": "Eqwx7l_GwBwn"
      },
      "execution_count": null,
      "outputs": []
    },
    {
      "cell_type": "markdown",
      "source": [
        "Q8\n",
        "Print all edges using \"print\" function.  \n",
        "[Reference: https://networkx.org/documentation/stable/tutorial.html Note that based on this reference, there are four basic graph properties facilitate reporting: G.nodes, G.edges, G.adj and G.degree. You can print these lists]."
      ],
      "metadata": {
        "id": "DLCfsz2twB4O"
      }
    },
    {
      "cell_type": "code",
      "source": [],
      "metadata": {
        "id": "6iA2OvsjwMpm"
      },
      "execution_count": null,
      "outputs": []
    },
    {
      "cell_type": "markdown",
      "source": [
        "Q9  \n",
        "Print the number of nodes using \"number_of_nodes\" functon and \"print\" function.  \n",
        "[Reference: https://networkx.org/documentation/stable/tutorial.html >> G.number_of_nodes() and G.number_of_edges()]"
      ],
      "metadata": {
        "id": "q2Izw1-vwMxN"
      }
    },
    {
      "cell_type": "code",
      "source": [],
      "metadata": {
        "id": "z5zV7NrZxEzG"
      },
      "execution_count": null,
      "outputs": []
    },
    {
      "cell_type": "markdown",
      "source": [
        "Q10  \n",
        "Print the number of edges using \"number_of_edges\" function and\n",
        "\"print\" function.  \n",
        "[Reference: https://networkx.org/documentation/stable/tutorial.html >> G.number_of_nodes() and G.number_of_edges()]\n"
      ],
      "metadata": {
        "id": "NbKVG9ZExE6-"
      }
    },
    {
      "cell_type": "code",
      "source": [],
      "metadata": {
        "id": "V7bHTcDoxX7M"
      },
      "execution_count": null,
      "outputs": []
    },
    {
      "cell_type": "markdown",
      "source": [],
      "metadata": {
        "id": "Au1uXJKkxYB4"
      }
    }
  ]
}