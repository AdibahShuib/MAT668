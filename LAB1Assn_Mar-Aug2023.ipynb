{
  "nbformat": 4,
  "nbformat_minor": 0,
  "metadata": {
    "colab": {
      "provenance": [],
      "authorship_tag": "ABX9TyPqsAnXT3ia1+Q0IUPPaZqS",
      "include_colab_link": true
    },
    "kernelspec": {
      "name": "python3",
      "display_name": "Python 3"
    },
    "language_info": {
      "name": "python"
    }
  },
  "cells": [
    {
      "cell_type": "markdown",
      "metadata": {
        "id": "view-in-github",
        "colab_type": "text"
      },
      "source": [
        "<a href=\"https://colab.research.google.com/github/AdibahShuib/MAT668/blob/main/LAB1Assn_Mar-Aug2023.ipynb\" target=\"_parent\"><img src=\"https://colab.research.google.com/assets/colab-badge.svg\" alt=\"Open In Colab\"/></a>"
      ]
    },
    {
      "cell_type": "code",
      "execution_count": null,
      "metadata": {
        "id": "3kQOFytvaxcG",
        "colab": {
          "base_uri": "https://localhost:8080/"
        },
        "outputId": "5d11f64e-197d-4ccf-dc6f-9e2bd556199b"
      },
      "outputs": [
        {
          "output_type": "stream",
          "name": "stdout",
          "text": [
            "Populating the interactive namespace from numpy and matplotlib\n"
          ]
        }
      ],
      "source": [
        "%pylab inline"
      ]
    },
    {
      "cell_type": "markdown",
      "source": [
        "Q1  \n",
        "Assign your full name to a variable called \"Name:\".  \n",
        "Assign your student ID to a variable called \"SID:\".  \n",
        "Assign today's date  to a variable called \"Date:\".  \n",
        "Print your name using \"print\" function; then print your student ID using \"print\" function, and lastly print your today's date using \"print\" function."
      ],
      "metadata": {
        "id": "ly9Bddc8iUQD"
      }
    },
    {
      "cell_type": "code",
      "source": [],
      "metadata": {
        "id": "r4_R5QJUkLkE"
      },
      "execution_count": null,
      "outputs": []
    },
    {
      "cell_type": "markdown",
      "source": [
        "Q2  \n",
        "Define a list called \"nodes\" of 10 nodes (0, 1, ..., 9) using \"range\" function.   \n",
        "[Reference: https://www.programiz.com/python-programming/methods/built-in/range].  \n",
        "Convert the range into a list using \"list\" function.\n",
        "Print the list of nodes using \"print\" function."
      ],
      "metadata": {
        "id": "8ZUtGbmBjT8r"
      }
    },
    {
      "cell_type": "code",
      "source": [],
      "metadata": {
        "id": "mVuQGzuOmySM"
      },
      "execution_count": null,
      "outputs": []
    },
    {
      "cell_type": "markdown",
      "source": [
        "Q3  \n",
        "Define a list called \"stud_id\" using your student ID   \n",
        "For example, if your student ID is \"2015234031\",\n",
        "your list is [2, 0, 1, 5, 2, 3, 4, 0, 3, 1].  \n",
        "Print it using \"print\" function."
      ],
      "metadata": {
        "id": "goYTZdvNmzET"
      }
    },
    {
      "cell_type": "code",
      "source": [],
      "metadata": {
        "id": "R2OvApZJoCS1"
      },
      "execution_count": null,
      "outputs": []
    },
    {
      "cell_type": "markdown",
      "source": [
        "Q4  \n",
        "Use \"zip\" function to create a sequence of tuple and called it \"G_Edges\". Each tuple defines an edge between two nodes from the list nodes and the list studid (nodes[i], stud_id[i]).  \n",
        "Then, use \"list\" function to convert \"edges\" sequence into a list. Print the list of edges using \"print\" function.  \n",
        "[Reference: https://www.programiz.com/python-programming/methods/built-in/zip]\n",
        "Example: If nodes = [0, 1, 2, 3, 4, 5, 6, 7, 8, 9] and stud_id = [2, 0, 1, 5, 2, 3, 4, 0, 3, 1], then, G_Edges = [(0, 2), (1, 0), (2, 1), (3, 5), (4, 2), (5, 3), (6, 4), (7, 0), (8, 3), (9, 1)] "
      ],
      "metadata": {
        "id": "uhQmyV6Qoa4O"
      }
    },
    {
      "cell_type": "code",
      "source": [],
      "metadata": {
        "id": "Gdre1jG2qUTF"
      },
      "execution_count": null,
      "outputs": []
    },
    {
      "cell_type": "markdown",
      "source": [
        "Q5  \n",
        "Import networkx module as nx.  \n",
        "Then, create an empty graph G with no nodes and no edges. \n",
        "Print G."
      ],
      "metadata": {
        "id": "cA7KVTrbqVGM"
      }
    },
    {
      "cell_type": "code",
      "source": [],
      "metadata": {
        "id": "GY5cktxzqijk"
      },
      "execution_count": null,
      "outputs": []
    },
    {
      "cell_type": "markdown",
      "source": [
        "Q6  \n",
        "Add \"G_Edges\" to G using \"add_edges_from\" function.  \n",
        "[Reference:: https://networkx.org/documentation/stable/tutorial.html ] "
      ],
      "metadata": {
        "id": "RIevxxIcqjaU"
      }
    },
    {
      "cell_type": "code",
      "source": [],
      "metadata": {
        "id": "ysz1VCfNtE-2"
      },
      "execution_count": null,
      "outputs": []
    },
    {
      "cell_type": "markdown",
      "source": [
        "Q7  \n",
        "Print all nodes using the \"print\" function.  \n",
        "[Reference: https://networkx.org/documentation/stable/tutorial.html Note that based on this reference, there are four basic graph properties facilitate reporting: G.nodes, G.edges, G.adj and G.degree. You can print these lists]."
      ],
      "metadata": {
        "id": "u6tqiWwjtFM-"
      }
    },
    {
      "cell_type": "code",
      "source": [],
      "metadata": {
        "id": "Eqwx7l_GwBwn"
      },
      "execution_count": null,
      "outputs": []
    },
    {
      "cell_type": "markdown",
      "source": [
        "Q8\n",
        "Print all edges using \"print\" function.  \n",
        "[Reference: https://networkx.org/documentation/stable/tutorial.html Note that based on this reference, there are four basic graph properties facilitate reporting: G.nodes, G.edges, G.adj and G.degree. You can print these lists]."
      ],
      "metadata": {
        "id": "DLCfsz2twB4O"
      }
    },
    {
      "cell_type": "code",
      "source": [],
      "metadata": {
        "id": "6iA2OvsjwMpm"
      },
      "execution_count": null,
      "outputs": []
    },
    {
      "cell_type": "markdown",
      "source": [
        "Q9  \n",
        "Print the number of nodes using \"number_of_nodes\" functon and \"print\" function.  \n",
        "[Reference: https://networkx.org/documentation/stable/tutorial.html >> G.number_of_nodes() and G.number_of_edges()]"
      ],
      "metadata": {
        "id": "q2Izw1-vwMxN"
      }
    },
    {
      "cell_type": "code",
      "source": [],
      "metadata": {
        "id": "z5zV7NrZxEzG"
      },
      "execution_count": null,
      "outputs": []
    },
    {
      "cell_type": "markdown",
      "source": [
        "Q10  \n",
        "Print the number of edges using \"number_of_edges\" function and\n",
        "\"print\" function.  \n",
        "[Reference: https://networkx.org/documentation/stable/tutorial.html >> G.number_of_nodes() and G.number_of_edges()]\n"
      ],
      "metadata": {
        "id": "NbKVG9ZExE6-"
      }
    },
    {
      "cell_type": "code",
      "source": [],
      "metadata": {
        "id": "V7bHTcDoxX7M"
      },
      "execution_count": null,
      "outputs": []
    },
    {
      "cell_type": "markdown",
      "source": [
        "Q11  \n",
        "Print the list of nodes adjacent to node 2 (neighbour of node 2)\n",
        "using \"neighbors\" function and \"print\" function.  \n",
        "[Reference: https://networkx.org/documentation/stable/reference/classes/generated/networkx.Graph.neighbors.html ]"
      ],
      "metadata": {
        "id": "Au1uXJKkxYB4"
      }
    },
    {
      "cell_type": "code",
      "source": [],
      "metadata": {
        "id": "vP8sImNRzAAf"
      },
      "execution_count": null,
      "outputs": []
    },
    {
      "cell_type": "markdown",
      "source": [
        "Q12  \n",
        "Print all the nodes and a list of their respective neighbours side by side using \"for loop\", \"nodes\" function, \"neighbors\" function and \"print\" function.   \n",
        "[References:   \n",
        "https://networkx.org/documentation/stable/reference/functions.html   \n",
        "https://www.w3schools.com/python/python_lists_loop.asp\n",
        "\n",
        "Example:  \n",
        "0 [1, 2, 7]    \n",
        "1 [0, 9, 2]  \n",
        "2 [0, 1, 4]  \n",
        "3 [8, 5]  \n",
        "4 [2, 6]  \n",
        "5 [3]  \n",
        "6 [4]  \n",
        "7 [0]  \n",
        "8 [3]  \n",
        "9 [1]  "
      ],
      "metadata": {
        "id": "KG8EpYOazAJ3"
      }
    },
    {
      "cell_type": "code",
      "source": [],
      "metadata": {
        "id": "Iw6E7_Ul3MWz"
      },
      "execution_count": null,
      "outputs": []
    },
    {
      "cell_type": "markdown",
      "source": [
        "Q13  \n",
        "Print the degree for node 2 using the \"degree\" function and\n",
        "\"print\" function. Please ignore parameter \"weight\".  \n",
        "[Reference: https://networkx.org/documentation/stable/reference/classes/generated/networkx.Graph.degree.html ]"
      ],
      "metadata": {
        "id": "PrPXTd9T3Mdz"
      }
    },
    {
      "cell_type": "code",
      "source": [],
      "metadata": {
        "id": "tJxd-Vjo4-sN"
      },
      "execution_count": null,
      "outputs": []
    },
    {
      "cell_type": "markdown",
      "source": [
        "Q14  \n",
        "Print all the nodes and their respective degree side by side using\n",
        "\"for loop\", \"nodes\" function, \"degree\" function and \"print\" function.  \n",
        "\n",
        "Example:\n",
        "0 3  \n",
        "1 3  \n",
        "2 3  \n",
        "3 2  \n",
        "4 2  \n",
        "5 1  \n",
        "6 1  \n",
        "7 1  \n",
        "8 1  \n",
        "9 1 "
      ],
      "metadata": {
        "id": "eQ6iXsRy4-60"
      }
    },
    {
      "cell_type": "code",
      "source": [],
      "metadata": {
        "id": "XCMu8IgW5icx"
      },
      "execution_count": null,
      "outputs": []
    },
    {
      "cell_type": "markdown",
      "source": [
        "Q15  \n",
        "\"G.degree()\" is of type dict, \"G.degree().keys()\" will return all the nodes. \"G.degree().values()\" will return all the degrees.  \n",
        "Read the Python Tutorial, pg. 31 on how to convert them to a list.\n",
        "\n",
        "Create a degree sequence in descending order using\n",
        "\"G.degree().values()\" function and \"list\" function and assign it to variable called \"degree_sequence\"\n",
        "\n",
        "Print \"degree_sequence\" using \"print\" function \n",
        "[Reference: https://networkx.org/documentation/stable/auto_examples/graph/plot_degree_sequence.html ]  \n",
        "\n",
        "Example:\n",
        "[3, 3, 3, 2, 2, 1, 1, 1, 1, 1]"
      ],
      "metadata": {
        "id": "HenB4iK45ijK"
      }
    },
    {
      "cell_type": "code",
      "source": [],
      "metadata": {
        "id": "uSailXsr6EvJ"
      },
      "execution_count": null,
      "outputs": []
    },
    {
      "cell_type": "markdown",
      "source": [
        "Q16  \n",
        "Find the maximum vertex degree  Δ  by applying \"max\" function to the list \"degree_sequence\" and assign it to variable \"max_degree\".    \n",
        "\n",
        "Print variable \"max_degree\" using \"print\" function."
      ],
      "metadata": {
        "id": "H4tw0Dwc6E2K"
      }
    },
    {
      "cell_type": "code",
      "source": [],
      "metadata": {
        "id": "-ySFN4ts6xmB"
      },
      "execution_count": null,
      "outputs": []
    },
    {
      "cell_type": "markdown",
      "source": [
        "Q17  \n",
        "Find the minimum vertex degree  δ  by applying \"min\" function to the list \"degree_sequence\" and assign it to variable \"min_degree\".\n",
        "\n",
        "Print variable \"min_degree\" using \"print\" function.  "
      ],
      "metadata": {
        "id": "_1EkBQYB6xrR"
      }
    },
    {
      "cell_type": "code",
      "source": [],
      "metadata": {
        "id": "RWCCThDX66h7"
      },
      "execution_count": null,
      "outputs": []
    },
    {
      "cell_type": "markdown",
      "source": [
        "Q18  \n",
        "Calculate the sum of degree of all nodes. \n",
        "\n",
        "\"sum\" function to calculate the sum of all degree, and\n",
        "assign it to a variable called \"sum_degree\".\n",
        "\n",
        "Print \"sum_degree\" using \"print\" function.\n",
        "\n",
        "Example:\n",
        "Sum of degree of all nodes = 18."
      ],
      "metadata": {
        "id": "LYHOUXK866n6"
      }
    },
    {
      "cell_type": "code",
      "source": [],
      "metadata": {
        "id": "Kfp1Ax217GRp"
      },
      "execution_count": null,
      "outputs": []
    },
    {
      "cell_type": "markdown",
      "source": [
        "Q19\n",
        "Calculate the value of 2 times the total number of edges using \"number_of_edges\" function (NetworkX Tutorial pg. 3), and assign it to a variable called \"edges_times2\".  \n",
        "\n",
        "Print \"edges_times2\" using \"print\" function.\n",
        "\n",
        "Example:\n",
        "edges_times2 = 2 x number_of_edges = 18."
      ],
      "metadata": {
        "id": "2NCEnKnE7GYZ"
      }
    },
    {
      "cell_type": "code",
      "source": [],
      "metadata": {
        "id": "PZyKwCv97QF6"
      },
      "execution_count": null,
      "outputs": []
    },
    {
      "cell_type": "markdown",
      "source": [
        "\n",
        "MAT668\n",
        "Lab 1\n",
        "[ ]\n",
        "%pylab inline\n",
        "Populating the interactive namespace from numpy and matplotlib\n",
        "Q1\n",
        "Assign your name to a variable called \"my_name\" (Python Tutorial, pg. 8).\n",
        "Print your name using \"print\" function (Python Tutorial, pg. 9).\n",
        "\n",
        "[ ]\n",
        "\n",
        "Q2 Define a list called \"nodes\" of 10 nodes (0, 1, ..., 9) using \"range\" function (Python Tutorial, pg. 16).\n",
        "Convert the range into a list using \"list\" function (Python Tutorial, pg. 12).\n",
        "Print the list of nodes using \"print\" function (Python Tutorial, pg. 9).\n",
        "\n",
        "[ ]\n",
        "\n",
        "Q3\n",
        "Define a list (Python Tutorial, pg. 12) using your student ID named \"studid\".\n",
        "For example, if your student ID is \"2015234031\",\n",
        "your list is [2, 0, 1, 5, 2, 3, 4, 0, 3, 1].\n",
        "Print it using \"print\" function (Python Tutorial, pg. 9).\n",
        "\n",
        "[ ]\n",
        "\n",
        "Q4\n",
        "Use \"zip\" function (Python Tutorial, pg. 67) to create a sequence of tuple and called it \"edges\".\n",
        "Each tuple defines an edge between two nodes from the list nodes\n",
        "and the list studid (nodes[i], stud[i]).\n",
        "Then, use \"list\" function (Python Tutorial, pg. 12) to convert \"edges\" sequence into a list.\n",
        "Print the list of edges using \"print\" function (Python Tutorial, pg. 9).\n",
        "Example:\n",
        "If nodes = [0, 1, 2, 3, 4, 5, 6, 7, 8, 9] and studid = [2, 0, 1, 5, 2, 3, 4, 0, 3, 1]\n",
        "then, edges = [(0, 2), (1, 0), (2, 1), (3, 5), (4, 2), (5, 3), (6, 4), (7, 0), (8, 3), (9, 1)]\n",
        "\n",
        "[ ]\n",
        "\n",
        "Q5\n",
        "Import networkx module as nx.\n",
        "\n",
        "Then, create an empty graph G with no nodes and no edges (NetworkX Tutorial pg. 1).\n",
        "\n",
        "[ ]\n",
        "\n",
        "Q6\n",
        "Add \"edges\" to G using \"add_edges_from\" function (NetworkX Tutorial pg. 2).\n",
        "\n",
        "[ ]\n",
        "\n",
        "Q7\n",
        "Print all nodes (NetworkX Tutorial pg. 3) using \"print\" function (Python Tutorial, pg. 9).\n",
        "\n",
        "[ ]\n",
        "\n",
        "Q8\n",
        "Print all edges (NetworkX Tutorial pg. 3) using \"print\" function (Python Tutorial, pg. 9).\n",
        "\n",
        "[ ]\n",
        "\n",
        "Q9\n",
        "Print the number of nodes using\n",
        "\"number_of_nodes\" functon (NetworkX Tutorial pg. 3), and\n",
        "\"print\" function (Python Tutorial, pg. 9).\n",
        "\n",
        "[ ]\n",
        "\n",
        "Q10\n",
        "Print the number of edges using\n",
        "\"number_of_edges\" function (NetworkX Tutorial pg. 3), and\n",
        "\"print\" function (Python Tutorial, pg. 9).\n",
        "\n",
        "[ ]\n",
        "\n",
        "Q11\n",
        "Print the list of nodes adjacent to node 2 (neighbour of node 2)\n",
        "using \"neighbors\" function (NetworkX Tutorial pg. 3)\n",
        "and \"print\" function (Python Tutorial, pg. 9).\n",
        "\n",
        "[ ]\n",
        "\n",
        "Q12\n",
        "Print all the nodes and a list of their respective neighbours side by side using\n",
        "\"for loop\" (Python Tutorial, pg. 15),\n",
        "\"nodes\" function (NetworkX Tutorial pg. 3),\n",
        "\"neighbors\" function (NetworkX Tutorial pg. 3), and\n",
        "\"print\" function (Python Tutorial, pg. 9).\n",
        "\n",
        "Example:\n",
        "0 [1, 2, 7]\n",
        "1 [0, 9, 2]\n",
        "2 [0, 1, 4]\n",
        "3 [8, 5]\n",
        "4 [2, 6]\n",
        "5 [3]\n",
        "6 [4]\n",
        "7 [0]\n",
        "8 [3]\n",
        "9 [1]\n",
        "\n",
        "[ ]\n",
        "\n",
        "Q13\n",
        "Print the degree for node 2 using the \"degree\" function (NetworkX Tutorial pg. 5), and\n",
        "\"print\" function (Python Tutorial, pg. 9).\n",
        "Please ignore parameter \"weight\".\n",
        "\n",
        "[ ]\n",
        "\n",
        "Q14\n",
        "Print all the nodes and their respective degree side by side using\n",
        "\"for loop\" (Python Tutorial, pg. 15),\n",
        "\"nodes\" function (NetworkX Tutorial pg. 3),\n",
        "\"degree\" function (NetworkX Tutorial pg. 5), and\n",
        "\"print\" function (Python Tutorial, pg. 9).\n",
        "\n",
        "Example:\n",
        "0 3\n",
        "1 3\n",
        "2 3\n",
        "3 2\n",
        "4 2\n",
        "5 1\n",
        "6 1\n",
        "7 1\n",
        "8 1\n",
        "9 1\n",
        "\n",
        "[ ]\n",
        "\n",
        "Q15\n",
        "\"G.degree()\" is of type dict (Python Tutorial, pg. 31).\n",
        "\"G.degree().keys()\" will return all the nodes.\n",
        "\"G.degree().values()\" will return all the degrees.\n",
        "Read the Python Tutorial, pg. 31 on how to convert them to a list.\n",
        "\n",
        "Create a degree sequence in descending order using\n",
        "\"G.degree().values()\" function and \"list\" function (Python Tutorial, pg. 12)\n",
        "and assign it to variable called \"degree_sequence\"\n",
        "\n",
        "Print \"degree_sequence\" using \"print\" function (Python Tutorial, pg. 9).\n",
        "\n",
        "Note:\n",
        "\n",
        "Example:\n",
        "[3, 3, 3, 2, 2, 1, 1, 1, 1, 1]\n",
        "\n",
        "[ ]\n",
        "\n",
        "Q16\n",
        "Find the maximum vertex degree Δ by applying\n",
        "\"max\" function to the list \"degree_sequence\"\n",
        "and assign it to variable \"max_degree\".\n",
        "\n",
        "Print variable \"max_degree\" using \"print\" function (Python Tutorial, pg. 9).\n",
        "\n",
        "[ ]\n",
        "\n",
        "Q17\n",
        "Find the minimum vertex degree δ by applying\n",
        "\"min\" function to the list \"degree_sequence\"\n",
        "and assign it to variable \"min_degree\".\n",
        "\n",
        "Print variable \"min_degree\" using \"print\" function (Python Tutorial, pg. 9).\n",
        "\n",
        "[ ]\n",
        "\n",
        "Q18\n",
        "Calculate the sum of degree of all nodes\n",
        "\n",
        "\"sum\" function to calculate the sum of all degree, and\n",
        "assign it to a variable called \"sum_degree\".\n",
        "\n",
        "Print \"sum_degree\" using \"print\" function (Python Tutorial, pg. 9).\n",
        "\n",
        "Example:\n",
        "Sum of degree of all nodes = 18\n",
        "\n",
        "[ ]\n",
        "\n",
        "Q19  \n",
        "Calculate the value of 2 times the total number of edges using\n",
        "\"number_of_edges\" function and assign it to a variable called \"edges_times2\".\n",
        "\n",
        "Print \"edges_times2\" using \"print\" function.  \n",
        "\n",
        "Example: edges_times2 = 2 x number_of_edges = 18"
      ],
      "metadata": {
        "id": "hhBeLtWS7QNg"
      }
    }
  ]
}