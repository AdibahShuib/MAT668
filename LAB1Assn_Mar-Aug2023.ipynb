{
  "nbformat": 4,
  "nbformat_minor": 0,
  "metadata": {
    "colab": {
      "provenance": [],
      "authorship_tag": "ABX9TyPI7fZx6Wk94HehNxeIfe9X",
      "include_colab_link": true
    },
    "kernelspec": {
      "name": "python3",
      "display_name": "Python 3"
    },
    "language_info": {
      "name": "python"
    }
  },
  "cells": [
    {
      "cell_type": "markdown",
      "metadata": {
        "id": "view-in-github",
        "colab_type": "text"
      },
      "source": [
        "<a href=\"https://colab.research.google.com/github/AdibahShuib/MAT668/blob/main/LAB1Assn_Mar-Aug2023.ipynb\" target=\"_parent\"><img src=\"https://colab.research.google.com/assets/colab-badge.svg\" alt=\"Open In Colab\"/></a>"
      ]
    },
    {
      "cell_type": "code",
      "execution_count": 1,
      "metadata": {
        "id": "3kQOFytvaxcG",
        "colab": {
          "base_uri": "https://localhost:8080/"
        },
        "outputId": "5d11f64e-197d-4ccf-dc6f-9e2bd556199b"
      },
      "outputs": [
        {
          "output_type": "stream",
          "name": "stdout",
          "text": [
            "Populating the interactive namespace from numpy and matplotlib\n"
          ]
        }
      ],
      "source": [
        "%pylab inline"
      ]
    },
    {
      "cell_type": "markdown",
      "source": [
        "Q1\n",
        "Assign your full name to a variable called \"Name:\".\n",
        "Assign your student ID to a variable called \"SID:\".\n",
        "Assign today's date  to a variable called \"Date:\".\n",
        "Print your name using \"print\" function; then print your student ID using \"print\" function, and lastly print your today's date using \"print\" function."
      ],
      "metadata": {
        "id": "ly9Bddc8iUQD"
      }
    },
    {
      "cell_type": "code",
      "source": [],
      "metadata": {
        "id": "r4_R5QJUkLkE"
      },
      "execution_count": null,
      "outputs": []
    },
    {
      "cell_type": "markdown",
      "source": [
        "Q2\n",
        "Define a list called \"nodes\" of 10 nodes (0, 1, ..., 9) using \"range\" function (Python Tutorial, pg. 16).\n",
        "Convert the range into a list using \"list\" function (Python Tutorial, pg. 12).\n",
        "Print the list of nodes using \"print\" function (Python Tutorial, pg. 9)."
      ],
      "metadata": {
        "id": "8ZUtGbmBjT8r"
      }
    }
  ]
}