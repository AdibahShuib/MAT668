{
  "nbformat": 4,
  "nbformat_minor": 0,
  "metadata": {
    "colab": {
      "provenance": [],
      "authorship_tag": "ABX9TyNoCt6Ro/GzKhwk68K/Y6nz",
      "include_colab_link": true
    },
    "kernelspec": {
      "name": "python3",
      "display_name": "Python 3"
    },
    "language_info": {
      "name": "python"
    }
  },
  "cells": [
    {
      "cell_type": "markdown",
      "metadata": {
        "id": "view-in-github",
        "colab_type": "text"
      },
      "source": [
        "<a href=\"https://colab.research.google.com/github/AdibahShuib/MAT668/blob/main/LAB1Assn_Mar-Aug2023.ipynb\" target=\"_parent\"><img src=\"https://colab.research.google.com/assets/colab-badge.svg\" alt=\"Open In Colab\"/></a>"
      ]
    },
    {
      "cell_type": "code",
      "execution_count": null,
      "metadata": {
        "id": "3kQOFytvaxcG",
        "colab": {
          "base_uri": "https://localhost:8080/"
        },
        "outputId": "5d11f64e-197d-4ccf-dc6f-9e2bd556199b"
      },
      "outputs": [
        {
          "output_type": "stream",
          "name": "stdout",
          "text": [
            "Populating the interactive namespace from numpy and matplotlib\n"
          ]
        }
      ],
      "source": [
        "%pylab inline"
      ]
    },
    {
      "cell_type": "markdown",
      "source": [
        "Q1  \n",
        "Assign your full name to a variable called \"Name:\".  \n",
        "Assign your student ID to a variable called \"SID:\".  \n",
        "Assign today's date  to a variable called \"Date:\".  \n",
        "Print your name using \"print\" function; then print your student ID using \"print\" function, and lastly print your today's date using \"print\" function."
      ],
      "metadata": {
        "id": "ly9Bddc8iUQD"
      }
    },
    {
      "cell_type": "code",
      "source": [],
      "metadata": {
        "id": "r4_R5QJUkLkE"
      },
      "execution_count": null,
      "outputs": []
    },
    {
      "cell_type": "markdown",
      "source": [
        "Q2  \n",
        "Define a list called \"nodes\" of 10 nodes (0, 1, ..., 9) using \"range\" function.   \n",
        "[Reference: https://www.programiz.com/python-programming/methods/built-in/range].  \n",
        "Convert the range into a list using \"list\" function.\n",
        "Print the list of nodes using \"print\" function."
      ],
      "metadata": {
        "id": "8ZUtGbmBjT8r"
      }
    },
    {
      "cell_type": "code",
      "source": [],
      "metadata": {
        "id": "mVuQGzuOmySM"
      },
      "execution_count": null,
      "outputs": []
    },
    {
      "cell_type": "markdown",
      "source": [
        "Q3  \n",
        "Define a list called \"studid\" using your student ID   \n",
        "For example, if your student ID is \"2015234031\",\n",
        "your list is [2, 0, 1, 5, 2, 3, 4, 0, 3, 1].  \n",
        "Print it using \"print\" function."
      ],
      "metadata": {
        "id": "goYTZdvNmzET"
      }
    },
    {
      "cell_type": "code",
      "source": [],
      "metadata": {
        "id": "R2OvApZJoCS1"
      },
      "execution_count": null,
      "outputs": []
    }
  ]
}