{
  "nbformat": 4,
  "nbformat_minor": 0,
  "metadata": {
    "colab": {
      "provenance": [],
      "authorship_tag": "ABX9TyOuPlgTyGKzLrRuh401p44J",
      "include_colab_link": true
    },
    "kernelspec": {
      "name": "python3",
      "display_name": "Python 3"
    },
    "language_info": {
      "name": "python"
    }
  },
  "cells": [
    {
      "cell_type": "markdown",
      "metadata": {
        "id": "view-in-github",
        "colab_type": "text"
      },
      "source": [
        "<a href=\"https://colab.research.google.com/github/AdibahShuib/MAT668/blob/main/OCT2023-FEB2024%20PYTHON%20LAB%20ASSIGNMENT.ipynb\" target=\"_parent\"><img src=\"https://colab.research.google.com/assets/colab-badge.svg\" alt=\"Open In Colab\"/></a>"
      ]
    },
    {
      "cell_type": "code",
      "execution_count": null,
      "metadata": {
        "id": "3kQOFytvaxcG",
        "colab": {
          "base_uri": "https://localhost:8080/"
        },
        "outputId": "5d11f64e-197d-4ccf-dc6f-9e2bd556199b"
      },
      "outputs": [
        {
          "output_type": "stream",
          "name": "stdout",
          "text": [
            "Populating the interactive namespace from numpy and matplotlib\n"
          ]
        }
      ],
      "source": [
        "%pylab inline"
      ]
    },
    {
      "cell_type": "markdown",
      "source": [
        "PYTHON LAB ASSIGNMENT\n",
        "GRAPH THEORY WITH APPLICATIONS (MAT668)\n",
        "OCT2023 - FEB2024"
      ],
      "metadata": {
        "id": "9VG8-YbOPisA"
      }
    },
    {
      "cell_type": "markdown",
      "source": [
        "###Q1  (6 marks)\n",
        "Assign your full name to a variable called \"Name:\".  \n",
        "Assign your student ID to a variable called \"SID:\".  \n",
        "Assign today's date  to a variable called \"Date:\".  \n",
        "Print your name using \"print\" function; then print your student ID using \"print\" function, and lastly print your today's date using \"print\" function."
      ],
      "metadata": {
        "id": "ly9Bddc8iUQD"
      }
    },
    {
      "cell_type": "code",
      "source": [],
      "metadata": {
        "id": "OJEnLkIEjyan"
      },
      "execution_count": null,
      "outputs": []
    },
    {
      "cell_type": "markdown",
      "source": [
        "###Q2  (5 marks)\n",
        "Define a list called \"Nodes\" of 10 nodes (0, 1, ..., 9) using \"range\" function.\n",
        "[Reference: https://www.programiz.com/python-programming/methods/built-in/range ]\n",
        "Convert the range into a list using \"list\" function. Print the list of nodes using \"print\" function. Example: print(\"Nodes:\",list(Nodes))"
      ],
      "metadata": {
        "id": "8ZUtGbmBjT8r"
      }
    },
    {
      "cell_type": "code",
      "source": [],
      "metadata": {
        "id": "VHw4p7FKjzaV"
      },
      "execution_count": null,
      "outputs": []
    },
    {
      "cell_type": "markdown",
      "source": [
        "###Q3  (5 marks)\n",
        "Define a list called \"SID\" using your student ID (SID) defined earlier.\n",
        "For example, if your student ID is \"2015234031\", your list is [2, 0, 1, 5, 2, 3, 4, 0, 3, 1]. Print it using \"print\" function. [Reference: https://www.w3schools.com/python/python_lists.asp - for list]"
      ],
      "metadata": {
        "id": "goYTZdvNmzET"
      }
    },
    {
      "cell_type": "code",
      "source": [],
      "metadata": {
        "id": "aQmln9ydj0xm"
      },
      "execution_count": null,
      "outputs": []
    },
    {
      "cell_type": "markdown",
      "source": [
        "###Q4  (5 marks)\n",
        "Use \"zip\" function to create a sequence of tuple and called it \"G_Edges\". Each tuple defines an edge between two nodes from the list nodes and the list SID (nodes[i], SID[i]).\n",
        "Then, use \"list\" function to convert \"edges\" sequence into a list. Print the list of edges using \"print\" function.\n",
        "[Reference: https://www.programiz.com/python-programming/methods/built-in/zip ]\n",
        "Example: If nodes = [0, 1, 2, 3, 4, 5, 6, 7, 8, 9] and SID = [2, 0, 1, 5, 2, 3, 4, 0, 3, 1], then, G_Edges = [(0, 2), (1, 0), (2, 1), (3, 5), (4, 2), (5, 3), (6, 4), (7, 0), (8, 3), (9, 1)]."
      ],
      "metadata": {
        "id": "uhQmyV6Qoa4O"
      }
    },
    {
      "cell_type": "code",
      "source": [],
      "metadata": {
        "id": "GtpeDtBtj1tb"
      },
      "execution_count": null,
      "outputs": []
    },
    {
      "cell_type": "markdown",
      "source": [
        "###Q5  (4 marks)\n",
        "Import networkx module as nx. [Reference: https://networkx.org/documentation/stable/tutorial.html to import]\n",
        "Then, create an empty graph G with no nodes and no edges.\n",
        "After you import network module and let G = nx.Graph(), print G."
      ],
      "metadata": {
        "id": "cA7KVTrbqVGM"
      }
    },
    {
      "cell_type": "code",
      "source": [],
      "metadata": {
        "id": "o7xpb5Lij3Os"
      },
      "execution_count": null,
      "outputs": []
    },
    {
      "cell_type": "markdown",
      "source": [
        "###Q6  (5 marks)\n",
        "Add \"G_Edges\" to G using \"G.add_edges_from(list of edges of G_Edges in Q4)\" function. [Reference: https://networkx.org/documentation/stable/tutorial.html ]. Then enter the commandto get number of edges >> print(G.number_of_edges())"
      ],
      "metadata": {
        "id": "RIevxxIcqjaU"
      }
    },
    {
      "cell_type": "code",
      "source": [],
      "metadata": {
        "id": "Ww4-JdRUj41K"
      },
      "execution_count": null,
      "outputs": []
    },
    {
      "cell_type": "markdown",
      "source": [
        "###Q7 (5 marks)\n",
        "Add nodes to G using G.add_nodes_from(list of Nodes in Q2). Print all nodes of G using the \"print\" function >> print(G.nodes)  \n",
        "[Reference: https://networkx.guide/basics/ . Note that based on this reference, there are four basic graph properties facilitate reporting: G.nodes, G.edges, G.adj and G.degree. You can print these lists]."
      ],
      "metadata": {
        "id": "u6tqiWwjtFM-"
      }
    },
    {
      "cell_type": "code",
      "source": [],
      "metadata": {
        "id": "Qq42lv2Lj51u"
      },
      "execution_count": null,
      "outputs": []
    },
    {
      "cell_type": "markdown",
      "source": [
        "###Q8 (5 marks)\n",
        "Print all edge of G using \"print\" function.  \n",
        "[Reference: https://networkx.guide/basics/ Note that based on this reference, there are four basic graph properties facilitate reporting: G.nodes, G.edges, G.adj and G.degree. You can print these lists]."
      ],
      "metadata": {
        "id": "DLCfsz2twB4O"
      }
    },
    {
      "cell_type": "code",
      "source": [],
      "metadata": {
        "id": "mEi5Sbtxj7BD"
      },
      "execution_count": null,
      "outputs": []
    },
    {
      "cell_type": "markdown",
      "source": [
        "###Q9  (5 marks)\n",
        "Print the number of nodes using \"number_of_nodes\" functon and \"print\" function.  \n",
        "[Reference: https://networkx.org/documentation/stable/tutorial.html >> G.number_of_nodes()."
      ],
      "metadata": {
        "id": "q2Izw1-vwMxN"
      }
    },
    {
      "cell_type": "code",
      "source": [],
      "metadata": {
        "id": "ZfEZxOrWj9NR"
      },
      "execution_count": null,
      "outputs": []
    },
    {
      "cell_type": "markdown",
      "source": [
        "###Q10 (5 marks)\n",
        "Print the degree of node 1, 5 and 8. To check degrees of a set of nodes, that is, with how many edges those nodes are incident with, use G.degree() method. For example, to check the degree of node 0 and node 8, use the command >> G.degree([0, 8]).[Reference: https://networkx.guide/basics/ for your example]."
      ],
      "metadata": {
        "id": "NbKVG9ZExE6-"
      }
    },
    {
      "cell_type": "code",
      "source": [],
      "metadata": {
        "id": "DdH7crIdj-wr"
      },
      "execution_count": null,
      "outputs": []
    },
    {
      "cell_type": "markdown",
      "source": [
        "###Q11  (5 marks)\n",
        "\n",
        "Print the list of nodes adjacent to node 1 (neighbours of node 1)\n",
        "using \"neighbors\" function and \"print\" function. For example, the command >> list(G.neighbors(9)) will produce all neighboring nodes to node 9 which you can print. [Reference: https://github.com/CambridgeUniversityPress/FirstCourseNetworkScience/blob/master/tutorials/Chapter%201%20Tutorial.ipynb ]"
      ],
      "metadata": {
        "id": "Au1uXJKkxYB4"
      }
    },
    {
      "cell_type": "code",
      "source": [],
      "metadata": {
        "id": "VRHHC9aLkBOA"
      },
      "execution_count": null,
      "outputs": []
    },
    {
      "cell_type": "markdown",
      "source": [
        "###Q12  (5 marks)\n",
        "Print all the nodes and a list of their respective neighbours side by side using \"for loop\", \"nodes\" function, \"neighbors\" function and \"print\" function. Note that you need to print i along with the list(G.neighbors(i)) for all i in the range.  \n",
        "Example:  \n",
        "0 [1, 2, 7]    \n",
        "1 [0, 9, 2]  \n",
        "2 [0, 1, 4]  \n",
        "3 [8, 5]  \n",
        "4 [2, 6]  \n",
        "5 [3]  \n",
        "6 [4]  \n",
        "7 [0]  \n",
        "8 [3]  \n",
        "9 [1]  \n",
        "[References: https://docs.python.org/3/tutorial/controlflow.html  #for-statements;  \n",
        "https://networkx.github.io/documentation/stable/tutorial.html#edges]"
      ],
      "metadata": {
        "id": "KG8EpYOazAJ3"
      }
    },
    {
      "cell_type": "code",
      "source": [],
      "metadata": {
        "id": "xB1ZRdFukDDY"
      },
      "execution_count": null,
      "outputs": []
    },
    {
      "cell_type": "markdown",
      "source": [
        "###Q13  (5 marks)\n",
        "Based on the output of Q12, define a list called \"Odd_Degree_Nodes\" to list all nodes with odd degree. Print this list. [Reference: https://www.w3schools.com/python/python_lists.asp to recall how to define list]"
      ],
      "metadata": {
        "id": "PrPXTd9T3Mdz"
      }
    },
    {
      "cell_type": "code",
      "source": [],
      "metadata": {
        "id": "aCSrRA7AkFWe"
      },
      "execution_count": null,
      "outputs": []
    },
    {
      "cell_type": "markdown",
      "source": [
        "###Q14  (5 marks)\n",
        "Print all the nodes and their respective degree side by side using\n",
        "\"for loop\", \"nodes\" function, \"degree\" function and \"print\" function.  \n",
        "Example:\n",
        "0 3  \n",
        "1 3  \n",
        "2 3  \n",
        "3 2  \n",
        "4 2  \n",
        "5 1  \n",
        "6 1  \n",
        "7 1  \n",
        "8 1  \n",
        "9 1   \n",
        "[References: https://docs.python.org/3/tutorial/controlflow.html#for-statements  HINT: use the command \"for i in range(len(G)):\" and you need to print the node i along with the degree of node i, which is G.degree(i)"
      ],
      "metadata": {
        "id": "eQ6iXsRy4-60"
      }
    },
    {
      "cell_type": "code",
      "source": [],
      "metadata": {
        "id": "v6QU7u1BkG-O"
      },
      "execution_count": null,
      "outputs": []
    },
    {
      "cell_type": "markdown",
      "source": [
        "###Q15 (5 marks)\n",
        "\"G.degree()\" is of type dict.\n",
        "\"G.degree().keys()\" will return all the nodes.\n",
        "\"G.degree().values()\" will return all the degrees.\n",
        "Read the Python Tutorial, pg. 31 on how to convert them to a list.\n",
        "Create a degree sequence in descending order using \"G.degree().values()\" function and \"list\" function and assign it to variable called \"degree_sequence\"\n",
        "Print \"degree_sequence\" using \"print\" function.\n",
        "Example: [3, 3, 3, 2, 2, 1, 1, 1, 1, 1]\n",
        "[Reference: https://docs.python.org/3/tutorial/introduction.html#lists\n",
        "https://docs.python.org/3/tutorial/datastructures.html#dictionaries ]"
      ],
      "metadata": {
        "id": "HenB4iK45ijK"
      }
    },
    {
      "cell_type": "code",
      "source": [],
      "metadata": {
        "id": "Wrfu9cehkIqV"
      },
      "execution_count": null,
      "outputs": []
    },
    {
      "cell_type": "markdown",
      "source": [
        "###Q16  (2 marks)\n",
        "Find the maximum vertex degree Δ by applying \"max\" function to the list \"degree_sequence\" and\n",
        "assign it to variable \"max_degree\".\n",
        "Print variable \"max_degree\" using \"print\" function. In this case, print(\"Max degree: \", max_degree)\n",
        "[Reference: https://www.tutorialspoint.com/python/list_max.htm  ]"
      ],
      "metadata": {
        "id": "H4tw0Dwc6E2K"
      }
    },
    {
      "cell_type": "code",
      "source": [],
      "metadata": {
        "id": "KVFeqHD1kKA8"
      },
      "execution_count": null,
      "outputs": []
    },
    {
      "cell_type": "markdown",
      "source": [
        "###Q17  (2 marks)\n",
        "Find the minimum vertex degree  δ  by applying \"min\" function to the list \"degree_sequence\" and assign it to variable \"min_degree\". Print variable \"min_degree\" using \"print\" function, i.e., print(\"Min degree: \"  min_degree)\n",
        "[Reference: https://www.tutorialspoint.com/python/list_min.htm  ]"
      ],
      "metadata": {
        "id": "_1EkBQYB6xrR"
      }
    },
    {
      "cell_type": "code",
      "source": [],
      "metadata": {
        "id": "CMKxVQ8ikMC4"
      },
      "execution_count": null,
      "outputs": []
    },
    {
      "cell_type": "markdown",
      "source": [
        "###Q18  (5 marks)\n",
        "Calculate the sum of degree of all nodes.\n",
        "\n",
        "\"sum\" function to calculate the sum of all degree, and\n",
        "assign it to a variable called \"sum_degree\".\n",
        "\n",
        "Print \"sum_degree\" using \"print\" function.\n",
        "\n",
        "Example:\n",
        "Sum of degree of all nodes = 18."
      ],
      "metadata": {
        "id": "LYHOUXK866n6"
      }
    },
    {
      "cell_type": "code",
      "source": [],
      "metadata": {
        "id": "XkViDGbJkNv0"
      },
      "execution_count": null,
      "outputs": []
    },
    {
      "cell_type": "markdown",
      "source": [
        "###Q19  (5 marks)\n",
        "Calculate the value of 2 times the total number of edges using \"number_of_edges\" function (NetworkX Tutorial pg. 3), and assign it to a variable called \"edges_times2\".  Note that the number of edges can be found using >> G.number_of_edges(). Print \"edges_times2\" using \"print\" function.  \n",
        "Example: edges_times2 = 2 x number_of_edges = 18.\n",
        "[References: https://networkx.github.io/documentation/stable/tutorial.html#edges ]"
      ],
      "metadata": {
        "id": "2NCEnKnE7GYZ"
      }
    },
    {
      "cell_type": "code",
      "source": [],
      "metadata": {
        "id": "wXzCoSwGkPql"
      },
      "execution_count": null,
      "outputs": []
    },
    {
      "cell_type": "markdown",
      "source": [
        "###Q20  (5 marks)\n",
        "Verify Handshaking Lemma (The degree sum formula). Use \"If\" function.\n",
        "∑v∈Vdeg(v)=2|E|\n",
        "\n",
        "Hint:\n",
        "Is sum_degree = edges times 2?   \n",
        "Print the value using \"print\" function."
      ],
      "metadata": {
        "id": "Cc-H8rb89M-W"
      }
    },
    {
      "cell_type": "code",
      "source": [],
      "metadata": {
        "id": "6VuD7zHZkRQa"
      },
      "execution_count": null,
      "outputs": []
    },
    {
      "cell_type": "markdown",
      "source": [
        "###Q21  (6 marks)\n",
        "Draw the graph G using \"draw\" function. Add \"with_labels=True\" argument to \"draw\" function to display the node's label.  \n",
        "\n",
        "[Reference: https://networkx.org/documentation/stable/tutorial.html ]"
      ],
      "metadata": {
        "id": "Kafi-C952NPh"
      }
    },
    {
      "cell_type": "code",
      "source": [],
      "metadata": {
        "id": "67y9IwcYkTVn"
      },
      "execution_count": null,
      "outputs": []
    }
  ]
}