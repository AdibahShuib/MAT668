{
  "nbformat": 4,
  "nbformat_minor": 0,
  "metadata": {
    "colab": {
      "provenance": [],
      "authorship_tag": "ABX9TyP0QRwk99VNj50iwIjtNtOx",
      "include_colab_link": true
    },
    "kernelspec": {
      "name": "python3",
      "display_name": "Python 3"
    },
    "language_info": {
      "name": "python"
    }
  },
  "cells": [
    {
      "cell_type": "markdown",
      "metadata": {
        "id": "view-in-github",
        "colab_type": "text"
      },
      "source": [
        "<a href=\"https://colab.research.google.com/github/AdibahShuib/MAT668/blob/main/OCT2023-FEB2024%20PYTHON%20LAB%20ASSIGNMENT.ipynb\" target=\"_parent\"><img src=\"https://colab.research.google.com/assets/colab-badge.svg\" alt=\"Open In Colab\"/></a>"
      ]
    },
    {
      "cell_type": "code",
      "execution_count": null,
      "metadata": {
        "id": "3kQOFytvaxcG",
        "colab": {
          "base_uri": "https://localhost:8080/"
        },
        "outputId": "5d11f64e-197d-4ccf-dc6f-9e2bd556199b"
      },
      "outputs": [
        {
          "output_type": "stream",
          "name": "stdout",
          "text": [
            "Populating the interactive namespace from numpy and matplotlib\n"
          ]
        }
      ],
      "source": [
        "%pylab inline"
      ]
    },
    {
      "cell_type": "markdown",
      "source": [
        "PYTHON LAB ASSIGNMENT\n",
        "GRAPH THEORY WITH APPLICATIONS (MAT668)\n",
        "OCT2023 - FEB2024"
      ],
      "metadata": {
        "id": "9VG8-YbOPisA"
      }
    },
    {
      "cell_type": "markdown",
      "source": [
        "###Q1  (6 marks)\n",
        "Assign your full name to a variable called \"Name:\".  \n",
        "Assign your student ID to a variable called \"SID:\".  \n",
        "Assign today's date  to a variable called \"Date:\".  \n",
        "Print your name using \"print\" function; then print your student ID using \"print\" function, and lastly print your today's date using \"print\" function."
      ],
      "metadata": {
        "id": "ly9Bddc8iUQD"
      }
    },
    {
      "cell_type": "code",
      "source": [],
      "metadata": {
        "id": "r4_R5QJUkLkE"
      },
      "execution_count": null,
      "outputs": []
    },
    {
      "cell_type": "markdown",
      "source": [
        "###Q2  (5 marks)\n",
        "Define a list called \"nodes\" of 10 nodes (0, 1, ..., 9) using \"range\" function.\n",
        "[Reference: https://www.programiz.com/python-programming/methods/built-in/range ]\n",
        "Convert the range into a list using \"list\" function. Print the list of nodes using \"print\" function."
      ],
      "metadata": {
        "id": "8ZUtGbmBjT8r"
      }
    },
    {
      "cell_type": "code",
      "source": [],
      "metadata": {
        "id": "_L0DzyqDkBDJ"
      },
      "execution_count": null,
      "outputs": []
    },
    {
      "cell_type": "markdown",
      "source": [
        "###Q3  (5 marks)\n",
        "Define a list called \"SID\" using your student ID (SID) defined earlier.\n",
        "For example, if your student ID is \"2015234031\", your list is [2, 0, 1, 5, 2, 3, 4, 0, 3, 1]. Print it using \"print\" function. [Reference: https://www.w3schools.com/python/python_lists.asp - for list]"
      ],
      "metadata": {
        "id": "goYTZdvNmzET"
      }
    },
    {
      "cell_type": "code",
      "source": [],
      "metadata": {
        "id": "Sp0jvbzJkHV8"
      },
      "execution_count": null,
      "outputs": []
    },
    {
      "cell_type": "markdown",
      "source": [
        "###Q4  (5 marks)\n",
        "Use \"zip\" function to create a sequence of tuple and called it \"G_Edges\". Each tuple defines an edge between two nodes from the list nodes and the list SID (nodes[i], SID[i]).\n",
        "Then, use \"list\" function to convert \"edges\" sequence into a list. Print the list of edges using \"print\" function.\n",
        "[Reference: https://www.programiz.com/python-programming/methods/built-in/zip ]\n",
        "Example: If nodes = [0, 1, 2, 3, 4, 5, 6, 7, 8, 9] and SID = [2, 0, 1, 5, 2, 3, 4, 0, 3, 1], then, G_Edges = [(0, 2), (1, 0), (2, 1), (3, 5), (4, 2), (5, 3), (6, 4), (7, 0), (8, 3), (9, 1)]"
      ],
      "metadata": {
        "id": "uhQmyV6Qoa4O"
      }
    },
    {
      "cell_type": "code",
      "source": [],
      "metadata": {
        "id": "SbySJ3WlkeD8"
      },
      "execution_count": null,
      "outputs": []
    },
    {
      "cell_type": "markdown",
      "source": [
        "###Q5  (4 marks)\n",
        "Import networkx module as nx. [Reference: https://networkx.org/documentation/stable/tutorial.html to import]\n",
        "Then, create an empty graph G with no nodes and no edges.\n",
        "Print G."
      ],
      "metadata": {
        "id": "cA7KVTrbqVGM"
      }
    },
    {
      "cell_type": "code",
      "source": [],
      "metadata": {
        "id": "GY5cktxzqijk"
      },
      "execution_count": null,
      "outputs": []
    },
    {
      "cell_type": "markdown",
      "source": [
        "###Q6  (4 marks)\n",
        "Add \"G_Edges\" to G using \"add_edges_from\" function.  \n",
        "[Reference:: https://networkx.org/documentation/stable/tutorial.html ]"
      ],
      "metadata": {
        "id": "RIevxxIcqjaU"
      }
    },
    {
      "cell_type": "code",
      "source": [],
      "metadata": {
        "id": "ysz1VCfNtE-2"
      },
      "execution_count": null,
      "outputs": []
    },
    {
      "cell_type": "markdown",
      "source": [
        "###Q7  \n",
        "Print all nodes using the \"print\" function.  \n",
        "[Reference: https://networkx.org/documentation/stable/tutorial.html Note that based on this reference, there are four basic graph properties facilitate reporting: G.nodes, G.edges, G.adj and G.degree. You can print these lists]."
      ],
      "metadata": {
        "id": "u6tqiWwjtFM-"
      }
    },
    {
      "cell_type": "code",
      "source": [],
      "metadata": {
        "id": "Eqwx7l_GwBwn"
      },
      "execution_count": null,
      "outputs": []
    },
    {
      "cell_type": "markdown",
      "source": [
        "###Q8\n",
        "Print all edges using \"print\" function.  \n",
        "[Reference: https://networkx.org/documentation/stable/tutorial.html Note that based on this reference, there are four basic graph properties facilitate reporting: G.nodes, G.edges, G.adj and G.degree. You can print these lists]."
      ],
      "metadata": {
        "id": "DLCfsz2twB4O"
      }
    },
    {
      "cell_type": "code",
      "source": [],
      "metadata": {
        "id": "6iA2OvsjwMpm"
      },
      "execution_count": null,
      "outputs": []
    },
    {
      "cell_type": "markdown",
      "source": [
        "###Q9  \n",
        "Print the number of nodes using \"number_of_nodes\" functon and \"print\" function.  \n",
        "[Reference: https://networkx.org/documentation/stable/tutorial.html >> G.number_of_nodes() and G.number_of_edges()]"
      ],
      "metadata": {
        "id": "q2Izw1-vwMxN"
      }
    },
    {
      "cell_type": "code",
      "source": [],
      "metadata": {
        "id": "z5zV7NrZxEzG"
      },
      "execution_count": null,
      "outputs": []
    },
    {
      "cell_type": "markdown",
      "source": [
        "###Q10  \n",
        "Print the number of edges using \"number_of_edges\" function and\n",
        "\"print\" function.  \n",
        "[Reference: https://networkx.org/documentation/stable/tutorial.html >> G.number_of_nodes() and G.number_of_edges()]\n"
      ],
      "metadata": {
        "id": "NbKVG9ZExE6-"
      }
    },
    {
      "cell_type": "code",
      "source": [],
      "metadata": {
        "id": "V7bHTcDoxX7M"
      },
      "execution_count": null,
      "outputs": []
    },
    {
      "cell_type": "markdown",
      "source": [
        "###Q11  \n",
        "\n",
        "Print the list of nodes adjacent to node 2 (neighbour of node 2)\n",
        "using \"neighbors\" function and \"print\" function.  \n",
        "[Reference: https://networkx.org/documentation/stable/reference/classes/generated/networkx.Graph.neighbors.html ]"
      ],
      "metadata": {
        "id": "Au1uXJKkxYB4"
      }
    },
    {
      "cell_type": "code",
      "source": [],
      "metadata": {
        "id": "vP8sImNRzAAf"
      },
      "execution_count": null,
      "outputs": []
    },
    {
      "cell_type": "markdown",
      "source": [
        "###Q12  \n",
        "Print all the nodes and a list of their respective neighbours side by side using \"for loop\", \"nodes\" function, \"neighbors\" function and \"print\" function.   \n",
        "\n",
        "Example:  \n",
        "0 [1, 2, 7]    \n",
        "1 [0, 9, 2]  \n",
        "2 [0, 1, 4]  \n",
        "3 [8, 5]  \n",
        "4 [2, 6]  \n",
        "5 [3]  \n",
        "6 [4]  \n",
        "7 [0]  \n",
        "8 [3]  \n",
        "9 [1]  \n",
        "[References: https://docs.python.org/3/tutorial/controlflow.html  #for-statements;  \n",
        "https://networkx.github.io/documentation/stable/tutorial.html#edges]"
      ],
      "metadata": {
        "id": "KG8EpYOazAJ3"
      }
    },
    {
      "cell_type": "code",
      "source": [],
      "metadata": {
        "id": "Iw6E7_Ul3MWz"
      },
      "execution_count": null,
      "outputs": []
    },
    {
      "cell_type": "markdown",
      "source": [
        "###Q13  \n",
        "Print the degree for node 2 using the \"degree\" function and\n",
        "\"print\" function. Please ignore parameter \"weight\".  \n",
        "[Reference: https://networkx.org/documentation/stable/reference/classes/generated/networkx.Graph.degree.html;  \n",
        "https://networkx.github.io/documentation/stable/tutorial.html#edges ]"
      ],
      "metadata": {
        "id": "PrPXTd9T3Mdz"
      }
    },
    {
      "cell_type": "code",
      "source": [],
      "metadata": {
        "id": "tJxd-Vjo4-sN"
      },
      "execution_count": null,
      "outputs": []
    },
    {
      "cell_type": "markdown",
      "source": [
        "###Q14  \n",
        "Print all the nodes and their respective degree side by side using\n",
        "\"for loop\", \"nodes\" function, \"degree\" function and \"print\" function.  \n",
        "\n",
        "Example:\n",
        "0 3  \n",
        "1 3  \n",
        "2 3  \n",
        "3 2  \n",
        "4 2  \n",
        "5 1  \n",
        "6 1  \n",
        "7 1  \n",
        "8 1  \n",
        "9 1   \n",
        "[References: https://docs.python.org/3/tutorial/controlflow.html#for-statements  \n",
        "https://networkx.github.io/documentation/stable/tutorial.html#edges ]"
      ],
      "metadata": {
        "id": "eQ6iXsRy4-60"
      }
    },
    {
      "cell_type": "code",
      "source": [],
      "metadata": {
        "id": "XCMu8IgW5icx"
      },
      "execution_count": null,
      "outputs": []
    },
    {
      "cell_type": "markdown",
      "source": [
        "###Q15  \n",
        "\"G.degree()\" is of type dict.  \n",
        "\"G.degree().keys()\" will return all the nodes.  \n",
        "\"G.degree().values()\" will return all the degrees.  \n",
        "Read the Python Tutorial, pg. 31 on how to convert them to a list.\n",
        "\n",
        "Create a degree sequence in descending order using\n",
        "\"G.degree().values()\" function and \"list\" function and assign it to variable called \"degree_sequence\"\n",
        "\n",
        "Print \"degree_sequence\" using \"print\" function.  \n",
        "\n",
        "Example:\n",
        "[3, 3, 3, 2, 2, 1, 1, 1, 1, 1]\n",
        "\n",
        "[Reference: https://docs.python.org/3/tutorial/introduction.html#lists  \n",
        "https://docs.python.org/3/tutorial/datastructures.html#dictionaries ]"
      ],
      "metadata": {
        "id": "HenB4iK45ijK"
      }
    },
    {
      "cell_type": "code",
      "source": [],
      "metadata": {
        "id": "uSailXsr6EvJ"
      },
      "execution_count": null,
      "outputs": []
    },
    {
      "cell_type": "markdown",
      "source": [
        "###Q16  \n",
        "Find the maximum vertex degree  Δ  by applying \"max\" function to the list \"degree_sequence\" and assign it to variable \"max_degree\".    \n",
        "\n",
        "Print variable \"max_degree\" using \"print\" function.\n",
        "\n",
        "[Reference: https://www.meccanismocomplesso.org/en/programming-graphs-with-python-part-2/#:~:text=In%20calculating%20the%20degree%20of,isolated%20nodes%20within%20a%20graph.&text=Now%20that%20you%20have%20basic,maximum%20degree%20of%20a%20graph. ]"
      ],
      "metadata": {
        "id": "H4tw0Dwc6E2K"
      }
    },
    {
      "cell_type": "code",
      "source": [],
      "metadata": {
        "id": "-ySFN4ts6xmB"
      },
      "execution_count": null,
      "outputs": []
    },
    {
      "cell_type": "markdown",
      "source": [
        "###Q17  \n",
        "Find the minimum vertex degree  δ  by applying \"min\" function to the list \"degree_sequence\" and assign it to variable \"min_degree\".\n",
        "\n",
        "Print variable \"min_degree\" using \"print\" function.  \n",
        "\n",
        "[Reference: https://www.meccanismocomplesso.org/en/programming-graphs-with-python-part-2/#:~:text=In%20calculating%20the%20degree%20of,isolated%20nodes%20within%20a%20graph.&text=Now%20that%20you%20have%20basic,maximum%20degree%20of%20a%20graph. ]"
      ],
      "metadata": {
        "id": "_1EkBQYB6xrR"
      }
    },
    {
      "cell_type": "code",
      "source": [],
      "metadata": {
        "id": "RWCCThDX66h7"
      },
      "execution_count": null,
      "outputs": []
    },
    {
      "cell_type": "markdown",
      "source": [
        "###Q18  \n",
        "Calculate the sum of degree of all nodes.\n",
        "\n",
        "\"sum\" function to calculate the sum of all degree, and\n",
        "assign it to a variable called \"sum_degree\".\n",
        "\n",
        "Print \"sum_degree\" using \"print\" function.\n",
        "\n",
        "Example:\n",
        "Sum of degree of all nodes = 18."
      ],
      "metadata": {
        "id": "LYHOUXK866n6"
      }
    },
    {
      "cell_type": "code",
      "source": [],
      "metadata": {
        "id": "Kfp1Ax217GRp"
      },
      "execution_count": null,
      "outputs": []
    },
    {
      "cell_type": "markdown",
      "source": [
        "###Q19\n",
        "Calculate the value of 2 times the total number of edges using \"number_of_edges\" function (NetworkX Tutorial pg. 3), and assign it to a variable called \"edges_times2\".  \n",
        "\n",
        "Print \"edges_times2\" using \"print\" function.\n",
        "\n",
        "Example:\n",
        "edges_times2 = 2 x number_of_edges = 18.  \n",
        "\n",
        "{References:  https://networkx.github.io/documentation/stable/tutorial.html#edges ]"
      ],
      "metadata": {
        "id": "2NCEnKnE7GYZ"
      }
    },
    {
      "cell_type": "code",
      "source": [],
      "metadata": {
        "id": "PZyKwCv97QF6"
      },
      "execution_count": null,
      "outputs": []
    },
    {
      "cell_type": "markdown",
      "source": [
        "Q20\n",
        "Verify Handshaking Lemma (The degree sum formula).\n",
        "∑v∈Vdeg(v)=2|E|\n",
        "\n",
        "Hint:\n",
        "Is sum_degree = edges times 2?   \n",
        "Print the value using \"print\" function.\n",
        "\n"
      ],
      "metadata": {
        "id": "Cc-H8rb89M-W"
      }
    },
    {
      "cell_type": "code",
      "source": [],
      "metadata": {
        "id": "1dMRgyum2NGT"
      },
      "execution_count": null,
      "outputs": []
    },
    {
      "cell_type": "markdown",
      "source": [
        "###Q21\n",
        "Draw the graph G using \"draw\" function. Add \"with_labels=True\" argument to \"draw\" function to display the node's label.  \n",
        "\n",
        "[Reference: https://networkx.org/documentation/stable/tutorial.html ]"
      ],
      "metadata": {
        "id": "Kafi-C952NPh"
      }
    },
    {
      "cell_type": "code",
      "source": [],
      "metadata": {
        "id": "89HiLDpM3Kfp"
      },
      "execution_count": null,
      "outputs": []
    },
    {
      "cell_type": "markdown",
      "source": [
        "###Q22\n",
        "Define your color_list.  color_list = [\"Colour1\",\"Colour2\",\"Colour3\",\"Colour4\",\"Colour5\"]  \n",
        "\n",
        "Write a Python program to display the first and last colors from your list.\n"
      ],
      "metadata": {
        "id": "IumDg33O3Knx"
      }
    },
    {
      "cell_type": "code",
      "source": [],
      "metadata": {
        "id": "2Xqm0xLB3TUI"
      },
      "execution_count": null,
      "outputs": []
    },
    {
      "cell_type": "markdown",
      "source": [
        "Q23\n",
        "Write a Python program to calculate the sum of three given numbers, if the values are equal then return thrice of their sum. Otherwise, multiply the sum by 3.\n",
        "       \n",
        "[Note: Use the following code. Note that firstnumber, secondnumber, and thirdnumber represent different numbers for x, y, and z while samenumber means you choose the same number for x, y and z]  \n",
        "\n",
        "def sum_thrice(x, y, z):  \n",
        "     sum = x + y + z  \n",
        "       if x == y == z:   \n",
        "      sum = sum * 3  \n",
        "     return sum    \n",
        "print(sum_thrice(firstnumber, secondnumber, thirdnumber))\n",
        "print(sum_thrice(samenumber, samenumber, samenumber))\n"
      ],
      "metadata": {
        "id": "6z7NgDZy3Tbo"
      }
    },
    {
      "cell_type": "code",
      "source": [],
      "metadata": {
        "id": "GanOKTKj4ENQ"
      },
      "execution_count": null,
      "outputs": []
    },
    {
      "cell_type": "markdown",
      "source": [
        "###Q24\n",
        "Write a Python program to convert kilometers to miles and display it.\n",
        "[Note: Use the following code].  \n",
        "\n",
        "kilometers = float(input(\"Enter value in kilometers: \")) #Taking kilometers input from the user\n",
        "\n",
        "conv_fac = 0.621371 # conversion factor\n",
        "\n",
        "miles = kilometers * conv_fac # calculate miles\n",
        "\n",
        "print('%0.2f kilometers is equal to %0.2f miles' %(kilometers,miles))\n",
        "\n"
      ],
      "metadata": {
        "id": "v-x1C8y84EUB"
      }
    },
    {
      "cell_type": "code",
      "source": [],
      "metadata": {
        "id": "-CmHvrEx4kkx"
      },
      "execution_count": null,
      "outputs": []
    },
    {
      "cell_type": "markdown",
      "source": [
        "###Q25\n",
        "Write a Python program to display the current date and time.   \n",
        "[Note: Use the following code]\n",
        "\n",
        "import pytz\n",
        "import datetime as dt\n",
        "kuala_lumpur=pytz.timezone('Asia/Kuala_Lumpur')\n",
        "localtz=pytz.timezone('Europe/London')\n",
        "now = dt.datetime.now()\n",
        "now_in_kuala_lumpur=now.astimezone(kuala_lumpur)\n",
        "print(now_in_kuala_lumpur)\n"
      ],
      "metadata": {
        "id": "QgZikuT14kqQ"
      }
    },
    {
      "cell_type": "code",
      "source": [],
      "metadata": {
        "id": "JzQCLadp5bIf"
      },
      "execution_count": null,
      "outputs": []
    }
  ]
}