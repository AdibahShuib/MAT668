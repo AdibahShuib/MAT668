{
  "nbformat": 4,
  "nbformat_minor": 0,
  "metadata": {
    "colab": {
      "provenance": [],
      "authorship_tag": "ABX9TyMUKTgEt0kShjHFB9AvbTKT",
      "include_colab_link": true
    },
    "kernelspec": {
      "name": "python3",
      "display_name": "Python 3"
    },
    "language_info": {
      "name": "python"
    }
  },
  "cells": [
    {
      "cell_type": "markdown",
      "metadata": {
        "id": "view-in-github",
        "colab_type": "text"
      },
      "source": [
        "<a href=\"https://colab.research.google.com/github/AdibahShuib/MAT668/blob/main/MAT668%20CS2496B%20PYTHON%20LAB%20ASSIGN.%20MAR-AUG2024.ipynb\" target=\"_parent\"><img src=\"https://colab.research.google.com/assets/colab-badge.svg\" alt=\"Open In Colab\"/></a>"
      ]
    },
    {
      "cell_type": "code",
      "execution_count": null,
      "metadata": {
        "id": "FXJRG3NYSUKF"
      },
      "outputs": [],
      "source": [
        "#GRAPH THEORY WITH APPLICATIONS (MAT668)\n",
        "#PYTHON LAB ASSIGNMENT - CS2496B\n",
        "#SEMESTER: OCTOBER 2023 – FEBRUARY 2024\n",
        "#COLLEGE OF COMPUTING, INFORMATICS AND MATHEMATICS (KPPIM)\n",
        "#UNIVERSITI TEKNOLGI MARA (UiTM), SHAH ALAM, SELANGOR, MALAYSIA\n",
        "#LECTURER:  ASSOC. PROF. TS DR ADIBAH SHUIB"
      ]
    },
    {
      "cell_type": "markdown",
      "source": [
        "###QUESTION 1  (5 marks)\n",
        "Assign your full name to a variable called \"Name:\".  \n",
        "Assign your student ID to a variable called \"SID:\".   \n",
        "Assign your group (CS2496A or CS2496B) to a variable called \"Class Group:\".\n",
        "Assign today's date to a variable called \"Date:\".\n",
        "Print each of these information in separate rows.\n",
        "•\t[HINT1: >> x = \"John\"; y = 5; z = \"A\"]\n",
        "•\t[HINT2: https://www.programiz.com/python-programming/datetime/current-datetime >> from datetime import date >> today = date.today() >> print(\"Date:\", today)]\n",
        "* Expected Output:\\\n",
        "        Name: Firstname Lastname\n",
        "        SID: 2021XXXXXX\n",
        "        Class Group: CS2496X\n",
        "        Date: 202X-XX-XX"
      ],
      "metadata": {
        "id": "C2Q1JU29jMlB"
      }
    },
    {
      "cell_type": "markdown",
      "source": [],
      "metadata": {
        "id": "3ue7W2aOi47b"
      }
    },
    {
      "cell_type": "code",
      "source": [],
      "metadata": {
        "id": "kKQ-qSBuU8bv"
      },
      "execution_count": null,
      "outputs": []
    }
  ]
}