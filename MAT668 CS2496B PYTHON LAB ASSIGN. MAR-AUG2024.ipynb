{
  "nbformat": 4,
  "nbformat_minor": 0,
  "metadata": {
    "colab": {
      "provenance": [],
      "authorship_tag": "ABX9TyP8gWH0Wrr3iU9FcAPL2o4g",
      "include_colab_link": true
    },
    "kernelspec": {
      "name": "python3",
      "display_name": "Python 3"
    },
    "language_info": {
      "name": "python"
    }
  },
  "cells": [
    {
      "cell_type": "markdown",
      "metadata": {
        "id": "view-in-github",
        "colab_type": "text"
      },
      "source": [
        "<a href=\"https://colab.research.google.com/github/AdibahShuib/MAT668/blob/main/MAT668%20CS2496B%20PYTHON%20LAB%20ASSIGN.%20MAR-AUG2024.ipynb\" target=\"_parent\"><img src=\"https://colab.research.google.com/assets/colab-badge.svg\" alt=\"Open In Colab\"/></a>"
      ]
    },
    {
      "cell_type": "code",
      "execution_count": null,
      "metadata": {
        "id": "FXJRG3NYSUKF"
      },
      "outputs": [],
      "source": [
        "#GRAPH THEORY WITH APPLICATIONS (MAT668)\n",
        "#PYTHON LAB ASSIGNMENT - CS2496B\n",
        "#SEMESTER: OCTOBER 2023 – FEBRUARY 2024\n",
        "#COLLEGE OF COMPUTING, INFORMATICS AND MATHEMATICS (KPPIM)\n",
        "#UNIVERSITI TEKNOLGI MARA (UiTM), SHAH ALAM, SELANGOR, MALAYSIA\n",
        "#LECTURER:  ASSOC. PROF. TS DR ADIBAH SHUIB"
      ]
    },
    {
      "cell_type": "markdown",
      "source": [
        "# PYTHON LAB ASSIGNMENT PART 2 (23 APRIL 2024)\n",
        "Please proceed to QUESTION 6 (Q6) to answer Python Lab Assignment Part 2 (23 April 2024)"
      ],
      "metadata": {
        "id": "SYRBJJEUgfew"
      }
    },
    {
      "cell_type": "markdown",
      "source": [
        "###QUESTION 1  (4 marks)\n",
        "Assign your full name (Firstname Lastname) to a variable called \"Name\".   \n",
        "Assign your student ID to a variable called \"SID\".   \n",
        "Assign your group (CS2496A or CS2496B) to a variable called \"Group\".  \n",
        "Assign today's date to a variable called \"Date\".\\\n",
        "Print each of these information in separate rows.\\\n",
        "•\t[HINT1: >> x = \"John\"; y = 5; z = \"A\"]\n",
        "•\t[HINT2: https://www.programiz.com/python-programming/datetime/current-datetime >> from datetime import date >> Date = date.today() \\\n",
        "•\t[HINT3: print(\"Date:\", Date)]\n",
        "* Expected Output:\\\n",
        "        Name: Firstname Lastname\n",
        "        SID: 2021XXXXXX\n",
        "        Class Group: CS2496X\n",
        "        Date: 202X-XX-XX"
      ],
      "metadata": {
        "id": "C2Q1JU29jMlB"
      }
    },
    {
      "cell_type": "code",
      "source": [],
      "metadata": {
        "id": "kKQ-qSBuU8bv"
      },
      "execution_count": null,
      "outputs": []
    },
    {
      "cell_type": "markdown",
      "source": [
        "###QUESTION 2 (4 marks)\n",
        "Create a colour list called \"TheColours\" consisting of eight (8) colours. Print this list.\\\n",
        "Print the last colour in TheColours list.\\\n",
        "Print the fourth, fifth and sixth colours in TheColours by specifying a range."
      ],
      "metadata": {
        "id": "eT5QXrmisfqW"
      }
    },
    {
      "cell_type": "code",
      "source": [],
      "metadata": {
        "id": "gFy_LOvXsilw"
      },
      "execution_count": null,
      "outputs": []
    },
    {
      "cell_type": "markdown",
      "source": [
        "###QUESTION 3 (4 marks)\n",
        "Create four (4) tuples as follows:\\\n",
        "tuple1 which contains the letters, \"M\", \"A\", and \"T\".\\\n",
        "tuple2 which contains the numbers 6, 6, and 8.\\\n",
        "tuple3 which contains the string \"MAT668_\".\\\n",
        "tuple4 which contains the string \"CS249\".\\\n",
        "Create tuple5 by joining the tuple 1 and tuple 2.\\\n",
        "Create tuple6 by joining the tuple 3 and tuple 4.\\\n",
        "Print tuple1, tuple2, tuple3, tuple4, tuple 5, and tuple 6 in different lines.\n",
        "[HINT1: Refer to 3. Python Tutorial (Join Tuple under Tuple section) at https://www.w3schools.com/python/]."
      ],
      "metadata": {
        "id": "oq0YGI66xvjd"
      }
    },
    {
      "cell_type": "code",
      "source": [],
      "metadata": {
        "id": "Lf_AwnXDx2eR"
      },
      "execution_count": null,
      "outputs": []
    },
    {
      "cell_type": "markdown",
      "source": [
        "###QUESTION 4 (4 marks)\n",
        "Use the following program to print the list of numbers from 11 to 20, sum the numbers from 11 to 20 and determine whether the number is even or odd. \\\n",
        "[HINT:\n",
        "1. You just need to copy the following program and replace a and b with appropriate values and take out the \" \\ \" (if any) in the coding below.\n",
        "2. Do not forget indent when dealing with loop.\n",
        "3. Refer to the example in 5.\tThe Python Tutorial (More Control Flow Tools): https://docs.python.org/3/tutorial/controlflow.html#for-statements].\n",
        "\n",
        "range(a, b)\\\n",
        "print(list(range(a, b)))\\\n",
        "print(\"the sum of numbers:\", sum(list(range(a, b))))\\\n",
        "for num in range(a, b):\\\n",
        "    if num % 2 == 0:     #Indent once. \\\n",
        "        print(\"Found an even number\", num)    #Indent twice.\\\n",
        "        continue    #Indent twice.\\\n",
        "    print(\"Found an odd number\", num)    #Indent once."
      ],
      "metadata": {
        "id": "ctztUAJH8u55"
      }
    },
    {
      "cell_type": "code",
      "source": [],
      "metadata": {
        "id": "2QDWYNzPW3yv"
      },
      "execution_count": null,
      "outputs": []
    },
    {
      "cell_type": "markdown",
      "source": [
        "###QUESTION 5 (4 marks)\n",
        "Type the following coding by replacing the blank space (______) with your own word such as 'house', 'shirt', 'dress', 'cat', 'car', scarf', 'phone','writing', 'painting', etc. Do not forget to indent when dealing with \"for\" and \"if\" lopps.. \\n\n",
        "\n",
        "MyWords = ['My', '_________', 'is', 'beautiful']\\\n",
        "for w in MyWords:\\\n",
        "    print(w, len(w))\\\n",
        "    if len(w)==5: \\\n",
        "        print(\"Length of word is\", len(w)) \\\n",
        "    else: \\\n",
        "        print(\"Length of word is not 5\")"
      ],
      "metadata": {
        "id": "EACpAVIlW4bv"
      }
    },
    {
      "cell_type": "code",
      "source": [],
      "metadata": {
        "id": "T4w9YoiHW8Z5"
      },
      "execution_count": null,
      "outputs": []
    },
    {
      "cell_type": "markdown",
      "source": [
        "###QUESTION 6 (4 marks)\n",
        "Define a list called \"Nodes\" of 10 nodes (0, 1, ..., 9) using \"range\" function.\n",
        "\n",
        "[Reference: https://www.programiz.com/python-programming/methods/built-in/range ].\n",
        "\n",
        "Convert the range into a list using \"list\" function. Print the list of nodes using \"print\" function. Example: print(\"Nodes:\",list(Nodes))"
      ],
      "metadata": {
        "id": "gMlWqzA2hkJn"
      }
    },
    {
      "cell_type": "code",
      "source": [],
      "metadata": {
        "id": "mH8zoUsEhpBl"
      },
      "execution_count": null,
      "outputs": []
    },
    {
      "cell_type": "markdown",
      "source": [
        "###QUESTION 7 (4 marks)\n",
        "Define a list called \"SID\" using your student ID (SID) defined earlier and print this SID. [Reference: https://www.w3schools.com/python/python_lists.asp - for list]\n",
        "\n",
        "Define a new list called NEW_SID by changing the last digit in your current SID to be the digit ‘8’. Print NEW_SID.\n",
        "\n",
        "Example:\\\n",
        "   SID: 2022123456 \\\n",
        "   NEW_SID: 2022123458"
      ],
      "metadata": {
        "id": "AOXVNJ8jhphc"
      }
    },
    {
      "cell_type": "code",
      "source": [],
      "metadata": {
        "id": "C8dP_N5EhtDV"
      },
      "execution_count": null,
      "outputs": []
    },
    {
      "cell_type": "markdown",
      "source": [
        "###QUESTION 8 (4 marks)\n",
        "Use \"zip\" function to create a sequence of tuple involving \"Nodes\" list and \"NEW_SID\" list and called it \"G_Edges\". \".  [HINT: G_Edges = zip(LIST_A, LIST_B)]. Print the list of G_Edges using the \"print\" function, e.g., print(list(LIST_C))\n",
        "\n",
        "Each tuple defines an edge between two nodes from the list nodes and the modified list NEW_SID as (Nodes[i], NEW_SID[i]]). The \"list\" function converts the \"G_edges\" sequence into a list.\n",
        "[Reference: https://www.programiz.com/python-programming/methods/built-in/zip ] \\\n",
        "\n",
        "Example (Expected Output): \\\n",
        "If nodes = [0, 1, 2, 3, 4, 5, 6, 7, 8, 9] and NEW_SID = [2, 0, 2, 2, 1, 2, 3, 4, 5, 8], then, G_Edges = [(0, 2), (1, 0), (2, 2), (3, 2), (4, 1), (5, 2), (6, 3), (7, 4), (8, 5), (9, 8)].\n"
      ],
      "metadata": {
        "id": "BAHsG60Vhti_"
      }
    },
    {
      "cell_type": "code",
      "source": [],
      "metadata": {
        "id": "ox_5ZEkqhv2j"
      },
      "execution_count": null,
      "outputs": []
    },
    {
      "cell_type": "markdown",
      "source": [
        "###QUESTION 9 (3 marks)\n",
        "Import networkx module as nx. [Reference: https://networkx.org/documentation/stable/tutorial.html to import]\n",
        "\n",
        "After you import network module, create an empty graph G with no nodes and no edges. i.e., let G = nx.Graph(). Then, print G."
      ],
      "metadata": {
        "id": "-5wbowTihwRt"
      }
    },
    {
      "cell_type": "code",
      "source": [],
      "metadata": {
        "id": "3iBgKsaRhzoH"
      },
      "execution_count": 31,
      "outputs": []
    },
    {
      "cell_type": "markdown",
      "source": [
        "###QUESTION 10 (4 marks)\n",
        "Add \"G_Edges\" to G using the function: \\\n",
        "\"G.add_edges_from (copy the list of edges of G_Edges in Q8)\".\n",
        "\n",
        "[Reference: https://networkx.org/documentation/stable/tutorial.html ].\n",
        "\n",
        "Then, enter the command to get number of edges >> print(G.number_of_edges())"
      ],
      "metadata": {
        "id": "yOKp6y83h0BG"
      }
    },
    {
      "cell_type": "code",
      "source": [],
      "metadata": {
        "id": "JvQwfm7Lh2Fq"
      },
      "execution_count": 31,
      "outputs": []
    },
    {
      "cell_type": "markdown",
      "source": [
        "###QUESTION 11 (4 marks)\n",
        "Print all edge of G using \"print\" function. [Hint: print(G.?????)].\n",
        "\n",
        "[Reference: https://networkx.guide/basics/ . Note that based on this reference, there are four basic graph properties facilitate the printing of all nodes, edges, adjacency lst and the degree for each of the vertices, respectively, using G.nodes, G.edges, G.adj and G.degree. You can print these lists. For example, print(G.nodes)]."
      ],
      "metadata": {
        "id": "aptkMoW3h2iU"
      }
    },
    {
      "cell_type": "code",
      "source": [],
      "metadata": {
        "id": "7fg-CkRmh5V9"
      },
      "execution_count": 31,
      "outputs": []
    },
    {
      "cell_type": "markdown",
      "source": [
        "###QUESTION 12 (4 marks)\n",
        "Add nodes to G to G using the function:\n",
        "G.add_nodes_from(list of Nodes in Q8). \\\n",
        "Print all nodes of G.\n",
        "\n",
        "[Reference: https://networkx.guide/basics/ . Note that based on this reference, there are four basic graph properties facilitate the printing of all nodes, edges, adjacency lst and the degree for each of the vertices, respectively, using G.nodes, G.edges, G.adj and G.degree. You can print these lists. For example, print(G.nodes)]."
      ],
      "metadata": {
        "id": "IvRD3CjtGeyA"
      }
    },
    {
      "cell_type": "code",
      "source": [],
      "metadata": {
        "id": "4UtC4Jg8G8NQ"
      },
      "execution_count": 31,
      "outputs": []
    },
    {
      "cell_type": "markdown",
      "source": [
        "###QUESTION 13 (4 marks)\n",
        "Print the number of nodes using \"number_of_nodes\" functon and \"print\" function. [HINT: G.number_of_nodes()].\n",
        "\n",
        "[Reference: https://networkx.org/documentation/stable/tutorial.html >>"
      ],
      "metadata": {
        "id": "l4hskri_h9oN"
      }
    },
    {
      "cell_type": "code",
      "source": [],
      "metadata": {
        "id": "Z3C9xwfLh_-8"
      },
      "execution_count": 31,
      "outputs": []
    },
    {
      "cell_type": "markdown",
      "source": [
        "###QUESTION 14 (4 marks)\n",
        "Print the degree of each of the nodes 2, 5, and 8.\n",
        "\n",
        "Note: To check degrees of a set of nodes, that is, with how many edges those nodes are incident with, use G.degree() function. \\\n",
        "For example, to check the degree of node 0 and node 8, use the command >> G.degree([0, 8]). \\\n",
        "[Reference: https://networkx.guide/basics/ for your example]."
      ],
      "metadata": {
        "id": "eIO_zRZniAb2"
      }
    },
    {
      "cell_type": "code",
      "source": [],
      "metadata": {
        "id": "Irt7mFWOiDa5"
      },
      "execution_count": 31,
      "outputs": []
    },
    {
      "cell_type": "markdown",
      "source": [
        "###QUESTION 15 (4 marks)\n",
        "Print the list of nodes adjacent to node 2 (neighbours of node 2) using \"neighbors\" function.\n",
        "\n",
        "For example, the command >> list(G.neighbors(9)) will produce all neighboring nodes to node 9 which you can print. [Reference: https://github.com/CambridgeUniversityPress/FirstCourseNetworkScience/blob/master/tutorials/Chapter%201%20Tutorial.ipynb ]"
      ],
      "metadata": {
        "id": "QzklGnbliD1c"
      }
    },
    {
      "cell_type": "code",
      "source": [],
      "metadata": {
        "id": "jeuAf9_tiHKR"
      },
      "execution_count": 31,
      "outputs": []
    },
    {
      "cell_type": "markdown",
      "source": [
        "###QUESTION 16 (4 marks)\n",
        "Print all the nodes and a list of their respective neighbours side by side using \"for loop\", \"nodes\" function, \"neighbors\" function and \"print\" function. Note that you need to print i along with the list(G.neighbors(i)) for all i in the range.\n",
        "Example:\\\n",
        "0 [1, 2, 7] \\\n",
        "1 [0, 9, 2] \\\n",
        "2 [0, 1, 4] \\\n",
        "3 [8, 5] \\\n",
        "4 [2, 6] \\\n",
        "5 [3] \\\n",
        "6 [4] \\\n",
        "7 [0] \\\n",
        "8 [3] \\\n",
        "9 [1] \\\n",
        "[References: https://docs.python.org/3/tutorial/controlflow.html #for-statements;\n",
        "https://networkx.github.io/documentation/stable/tutorial.html#edges]"
      ],
      "metadata": {
        "id": "kYMPdlFpiHrz"
      }
    },
    {
      "cell_type": "code",
      "source": [],
      "metadata": {
        "id": "VAPvJkSYiK51"
      },
      "execution_count": 31,
      "outputs": []
    },
    {
      "cell_type": "markdown",
      "source": [
        "###QUESTION 17 (4 marks)\n",
        "Based on the output of Q16, define a list called \"Odd_Degree_Nodes\" to list all nodes with odd degree. For example, Odd_Degree_Nodes = [5, 6, 7, 9]. Print this list of \"Odd_Degree_Nodes.\n",
        "\n",
        "[Reference: https://www.w3schools.com/python/python_lists.asp to recall how to define list]"
      ],
      "metadata": {
        "id": "UjLwWhdpiLX9"
      }
    },
    {
      "cell_type": "code",
      "source": [],
      "metadata": {
        "id": "CZVOwkWriPxn"
      },
      "execution_count": 31,
      "outputs": []
    },
    {
      "cell_type": "markdown",
      "source": [
        "###QUESTION 18 (4 marks)\n",
        "Print all the nodes and their respective degree side by side using \"for loop\", \"nodes\" function, \"degree\" function and \"print\" function.\n",
        "\n",
        "Example: \\\n",
        "0 3 \\\n",
        "1 3 \\\n",
        "2 3 \\\n",
        "3 2 \\\n",
        "4 2 \\\n",
        "5 1 \\\n",
        "6 1 \\\n",
        "7 1 \\\n",
        "8 1 \\\n",
        "9 1 \\\n",
        "[References: https://docs.python.org/3/tutorial/controlflow.html#for-statements HINT: use the command \"for i in range(len(G)):\" and you need to print the node i along with the degree of node i, which is G.degree(i)"
      ],
      "metadata": {
        "id": "CFhrD1dIiQS8"
      }
    },
    {
      "cell_type": "code",
      "source": [],
      "metadata": {
        "id": "ajp-_a3siSIj"
      },
      "execution_count": 31,
      "outputs": []
    },
    {
      "cell_type": "markdown",
      "source": [
        "###QUESTION 19 (4 marks)\n",
        "\"G.degree()\" is of type dict. \"G.degree().keys()\" will return all the nodes. \"G.degree().values()\" will return all the degrees. Print \"degree_sequence\" using \"print\" function. Example: [3, 3, 3, 2, 2, 1, 1, 1, 1, 1]\n",
        "\n",
        "Read the Python Tutorial, pg. 31 on how to convert them to a list. Create a degree sequence in descending order using \"G.degree().values()\" function and \"list\" function and assign it to variable called \"degree_sequence\". Then print the sequence.\n",
        "\n",
        "References: \\\n",
        "https://docs.python.org/3/tutorial/introduction.html#lists \\\n",
        "https://docs.python.org/3/tutorial/datastructures.html#dictionaries"
      ],
      "metadata": {
        "id": "Z6j9dwGyiTaE"
      }
    },
    {
      "cell_type": "code",
      "source": [],
      "metadata": {
        "id": "1GSNactwiVqO"
      },
      "execution_count": 31,
      "outputs": []
    },
    {
      "cell_type": "markdown",
      "source": [
        "###QUESTION 20 (4 marks)\n",
        "Find the maximum vertex degree (Δ) by applying \"max\" function to the list \"degree_sequence\" and assign it to variable \"max_degree\".\n",
        "\n",
        "Print variable \"max_degree\" using \"print\" function.\n",
        "\n",
        "In this case, print(\"Max degree of the degree sequence: \", max_degree) [Reference: https://www.tutorialspoint.com/python/list_max.htm ]\n"
      ],
      "metadata": {
        "id": "WTodyFZhiWC3"
      }
    },
    {
      "cell_type": "code",
      "source": [],
      "metadata": {
        "id": "C4mzhNihiYKr"
      },
      "execution_count": 31,
      "outputs": []
    },
    {
      "cell_type": "markdown",
      "source": [
        "###QUESTION 21 (4 marks)\n",
        "Find the minimum vertex degree (δ) by applying \"min\" function to the list \"degree_sequence\" and assign it to variable \"min_degree\".\n",
        "\n",
        "Print variable \"min_degree\" using \"print\" function, i.e., print(\"Min degree of the degree sequence: \" min_degree)\n",
        "\n",
        "[Reference: https://www.tutorialspoint.com/python/list_min.htm ]"
      ],
      "metadata": {
        "id": "wvQzfOXziZI9"
      }
    },
    {
      "cell_type": "code",
      "source": [],
      "metadata": {
        "id": "6TsDXkfXib-k"
      },
      "execution_count": 31,
      "outputs": []
    },
    {
      "cell_type": "markdown",
      "source": [
        "###QUESTION 22 (4 marks)\n",
        "Calculate the sum of degree of all nodes.\n",
        "\n",
        "Use \"sum\" function to calculate the sum of all degree, and assign it to a variable called \"sum_degree\".\n",
        "\n",
        "Print \"sum_degree\" using \"print\" function.\n",
        "Example of Output: Sum of degree of all nodes = 18."
      ],
      "metadata": {
        "id": "CXnkANrgicVX"
      }
    },
    {
      "cell_type": "code",
      "source": [],
      "metadata": {
        "id": "6WlitD3hiezs"
      },
      "execution_count": 31,
      "outputs": []
    },
    {
      "cell_type": "markdown",
      "source": [
        "###QUESTION 23 (4 marks)\n",
        "Calculate the value of 2 times the total number of edges using \"number_of_edges\" function (NetworkX Tutorial pg. 3), and assign it to a variable called \"edges_times2\".\n",
        "\n",
        "Note that the number of edges can be found using >> G.number_of_edges(). Print \"edges_times2\" using \"print\" function.\n",
        "Example: edges_times2 = 2 x number_of_edges = 18.\n",
        "\n",
        "[References: https://networkx.github.io/documentation/stable/tutorial.html#edges ]\n"
      ],
      "metadata": {
        "id": "8B0WDUJwiiF1"
      }
    },
    {
      "cell_type": "code",
      "source": [],
      "metadata": {
        "id": "nchjHkiUijJk"
      },
      "execution_count": 31,
      "outputs": []
    },
    {
      "cell_type": "markdown",
      "source": [
        "###QUESTION 24 (4 marks)\n",
        "Verify Handshaking Lemma (The degree sum formula). Use \"If\" function. ∑v∈Vdeg(v)=2|E|. Print the conclusion using \"print\" function.\n",
        "\n",
        "[ Hint: Is sum_degree = edges times 2? If yes, print \"Handshaking Theorem Lemma is verified\". Else: print(\"Handshaking Theorem Lemma is not verified\") ]"
      ],
      "metadata": {
        "id": "W_6i3Ncqik4s"
      }
    },
    {
      "cell_type": "code",
      "source": [],
      "metadata": {
        "id": "jK2A7oFRioA6"
      },
      "execution_count": 31,
      "outputs": []
    },
    {
      "cell_type": "markdown",
      "source": [
        "###QUESTION 25 (5 marks)\n",
        "Draw the graph G using \"draw\" function. Add \"with_labels=True\" argument to \"draw\" function to display the node's label.\n",
        "\n",
        "[Reference: https://networkx.org/documentation/stable/tutorial.html ]"
      ],
      "metadata": {
        "id": "dNPkP1xHiolV"
      }
    },
    {
      "cell_type": "code",
      "source": [],
      "metadata": {
        "id": "CUENalRuiqpa"
      },
      "execution_count": 31,
      "outputs": []
    },
    {
      "cell_type": "code",
      "source": [],
      "metadata": {
        "id": "7difxzXbxLoo"
      },
      "execution_count": null,
      "outputs": []
    }
  ]
}