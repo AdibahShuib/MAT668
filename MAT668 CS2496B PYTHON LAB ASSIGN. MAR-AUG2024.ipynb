{
  "nbformat": 4,
  "nbformat_minor": 0,
  "metadata": {
    "colab": {
      "provenance": [],
      "authorship_tag": "ABX9TyPsTUO1HX++idkr2cFxreSA",
      "include_colab_link": true
    },
    "kernelspec": {
      "name": "python3",
      "display_name": "Python 3"
    },
    "language_info": {
      "name": "python"
    }
  },
  "cells": [
    {
      "cell_type": "markdown",
      "metadata": {
        "id": "view-in-github",
        "colab_type": "text"
      },
      "source": [
        "<a href=\"https://colab.research.google.com/github/AdibahShuib/MAT668/blob/main/MAT668%20CS2496B%20PYTHON%20LAB%20ASSIGN.%20MAR-AUG2024.ipynb\" target=\"_parent\"><img src=\"https://colab.research.google.com/assets/colab-badge.svg\" alt=\"Open In Colab\"/></a>"
      ]
    },
    {
      "cell_type": "code",
      "execution_count": null,
      "metadata": {
        "id": "FXJRG3NYSUKF"
      },
      "outputs": [],
      "source": [
        "#GRAPH THEORY WITH APPLICATIONS (MAT668)\n",
        "#PYTHON LAB ASSIGNMENT - CS2496B\n",
        "#SEMESTER: OCTOBER 2023 – FEBRUARY 2024\n",
        "#COLLEGE OF COMPUTING, INFORMATICS AND MATHEMATICS (KPPIM)\n",
        "#UNIVERSITI TEKNOLGI MARA (UiTM), SHAH ALAM, SELANGOR, MALAYSIA\n",
        "#LECTURER:  ASSOC. PROF. TS DR ADIBAH SHUIB"
      ]
    },
    {
      "cell_type": "markdown",
      "source": [
        "###QUESTION 1  (4 marks)\n",
        "Assign your full name (Firstname Lastname) to a variable called \"Name\".   \n",
        "Assign your student ID to a variable called \"SID\".   \n",
        "Assign your group (CS2496A or CS2496B) to a variable called \"Group\".  \n",
        "Assign today's date to a variable called \"Date\".\\\n",
        "Print each of these information in separate rows.\\\n",
        "•\t[HINT1: >> x = \"John\"; y = 5; z = \"A\"]\n",
        "•\t[HINT2: https://www.programiz.com/python-programming/datetime/current-datetime >> from datetime import date >> Date = date.today() \\\n",
        "•\t[HINT3: print(\"Date:\", Date)]\n",
        "* Expected Output:\\\n",
        "        Name: Firstname Lastname\n",
        "        SID: 2021XXXXXX\n",
        "        Class Group: CS2496X\n",
        "        Date: 202X-XX-XX"
      ],
      "metadata": {
        "id": "C2Q1JU29jMlB"
      }
    },
    {
      "cell_type": "code",
      "source": [],
      "metadata": {
        "id": "kKQ-qSBuU8bv"
      },
      "execution_count": 4,
      "outputs": []
    },
    {
      "cell_type": "markdown",
      "source": [
        "###QUESTION 2 (4 marks)\n",
        "Create a colour list called \"TheColours\" consisting of eight (8) colours. Print this list.\\\n",
        "Print the last colour in TheColours list.\\\n",
        "Print the fourth, fifth and sixth colours in TheColours by specifying a range."
      ],
      "metadata": {
        "id": "eT5QXrmisfqW"
      }
    },
    {
      "cell_type": "code",
      "source": [],
      "metadata": {
        "id": "gFy_LOvXsilw"
      },
      "execution_count": 5,
      "outputs": []
    },
    {
      "cell_type": "markdown",
      "source": [
        "###QUESTION 3 (4 marks)\n",
        "Create four (4) tuples as follows:\\\n",
        "tuple1 which contains the letters, \"M\", \"A\", and \"T\".\\\n",
        "tuple2 which contains the numbers 6, 6, and 8.\\\n",
        "tuple3 which contains the string \"MAT668_\".\\\n",
        "tuple4 which contains the string \"CS249\".\\\n",
        "Create tuple5 by joining the tuple 1 and tuple 2.\\\n",
        "Create tuple6 by joining the tuple 3 and tuple 4.\\\n",
        "Print tuple1, tuple2, tuple3, tuple4, tuple 5, and tuple 6 in different lines. [HINT1: Refer to 3. Python Tutorial (Join Tuple under Tuple section) at https://www.w3schools.com/python/]."
      ],
      "metadata": {
        "id": "oq0YGI66xvjd"
      }
    },
    {
      "cell_type": "code",
      "source": [],
      "metadata": {
        "id": "Lf_AwnXDx2eR"
      },
      "execution_count": 11,
      "outputs": []
    },
    {
      "cell_type": "markdown",
      "source": [
        "###QUESTION 4 (4 marks)\n",
        "Use the following program to print the list of numbers from 11 to 20, sum the numbers from 11 to 20 and determine whether the number is even or odd. \\\n",
        "[HINT:\n",
        "1. You just need to copy the following program and replace a and b with appropriate values and take out the \" \\ \" in the coding below.\n",
        "2. Do not forget indent when dealing with loop.\n",
        "3. Refer to the example in 5.\tThe Python Tutorial (More Control Flow Tools): https://docs.python.org/3/tutorial/controlflow.html#for-statements].\n",
        "\n",
        "range(a, b)\\\n",
        "print(list(range(a, b)))\\\n",
        "print(\"the sum of numbers:\", sum(list(range(a, b))))\\\n",
        "for num in range(a, b):\\\n",
        "    if num % 2 == 0:     #Indent once. \\\n",
        "        print(\"Found an even number\", num)    #Indent twice.\\\n",
        "        continue    #Indent twice.\\\n",
        "    print(\"Found an odd number\", num)    #Indent once."
      ],
      "metadata": {
        "id": "ctztUAJH8u55"
      }
    },
    {
      "cell_type": "code",
      "source": [],
      "metadata": {
        "id": "_qqhcTRQ80yF"
      },
      "execution_count": 26,
      "outputs": []
    },
    {
      "cell_type": "markdown",
      "source": [
        "###QUESTION 5 (4 marks)\n",
        "Type the following coding by replacing the blank space (______) with your own word such as 'house', 'shirt', 'dress', 'cat', 'car', scarf', 'phone','writing', 'painting', etc. Do not forget to indent when dealing with \"for\" and \"if\" lopps.. \\n\n",
        "\n",
        "MyWords = ['My', '_________', 'is', 'beautiful']\\\n",
        "for w in MyWords:\\\n",
        "    print(w, len(w))\\\n",
        "    if len(w)==5: \\\n",
        "       print(\"Length of word is\", len(w)) \\\n",
        "    else: \\\n",
        "       print(\"Length of word is not 5\")"
      ],
      "metadata": {
        "id": "TSBuUwDLJLGk"
      }
    },
    {
      "cell_type": "code",
      "source": [],
      "metadata": {
        "id": "HtJda0AvMZvI"
      },
      "execution_count": 38,
      "outputs": []
    }
  ]
}